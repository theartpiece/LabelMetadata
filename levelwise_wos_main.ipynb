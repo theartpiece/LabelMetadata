{
 "cells": [
  {
   "cell_type": "code",
   "execution_count": 1,
   "id": "b864780e-12ed-4744-b37e-2416ddc1a211",
   "metadata": {},
   "outputs": [],
   "source": [
    "import os\n",
    "os.environ[\"CUDA_VISIBLE_DEVICES\"]='0'\n"
   ]
  },
  {
   "cell_type": "code",
   "execution_count": 2,
   "id": "e0350cf4-1caf-4a7b-b7f3-fca70101b1e2",
   "metadata": {},
   "outputs": [
    {
     "data": {
      "text/plain": [
       "'GNN Model'"
      ]
     },
     "execution_count": 2,
     "metadata": {},
     "output_type": "execute_result"
    }
   ],
   "source": [
    "\"GNN Model\""
   ]
  },
  {
   "cell_type": "code",
   "execution_count": 3,
   "id": "52040d2c-04c6-49a9-9d97-7af8a8c6f18a",
   "metadata": {},
   "outputs": [],
   "source": [
    "from sklearn.metrics import f1_score"
   ]
  },
  {
   "cell_type": "code",
   "execution_count": 4,
   "id": "49f536f3-fa3b-47c6-9ab2-3430d0415d29",
   "metadata": {},
   "outputs": [],
   "source": [
    "import matplotlib.pyplot as plt\n"
   ]
  },
  {
   "cell_type": "code",
   "execution_count": 5,
   "id": "73f245eb-a5b8-40ea-bbe7-d92cfa2b5bb5",
   "metadata": {},
   "outputs": [],
   "source": [
    "device=\"cuda\""
   ]
  },
  {
   "cell_type": "code",
   "execution_count": 6,
   "id": "19eb6f66-e46e-46f3-b92c-5e024fee1bbe",
   "metadata": {},
   "outputs": [],
   "source": [
    "from tqdm import tqdm"
   ]
  },
  {
   "cell_type": "code",
   "execution_count": 7,
   "id": "6b990366-c616-4d8c-9a2d-d7f28be03e91",
   "metadata": {},
   "outputs": [
    {
     "name": "stderr",
     "output_type": "stream",
     "text": [
      "/home/chitrank/miniconda3/envs/myenv_py3.8_another/lib/python3.8/site-packages/tqdm/auto.py:21: TqdmWarning: IProgress not found. Please update jupyter and ipywidgets. See https://ipywidgets.readthedocs.io/en/stable/user_install.html\n",
      "  from .autonotebook import tqdm as notebook_tqdm\n"
     ]
    }
   ],
   "source": [
    "import numpy as np\n",
    "import torch"
   ]
  },
  {
   "cell_type": "code",
   "execution_count": 8,
   "id": "538260b1-5737-4a4d-8e41-025329387204",
   "metadata": {},
   "outputs": [
    {
     "data": {
      "text/plain": [
       "'1.12.0'"
      ]
     },
     "execution_count": 8,
     "metadata": {},
     "output_type": "execute_result"
    }
   ],
   "source": [
    "torch.__version__"
   ]
  },
  {
   "cell_type": "code",
   "execution_count": 9,
   "id": "7e25af90-01ba-4772-b7d1-fc8977c49755",
   "metadata": {},
   "outputs": [
    {
     "data": {
      "text/plain": [
       "True"
      ]
     },
     "execution_count": 9,
     "metadata": {},
     "output_type": "execute_result"
    }
   ],
   "source": [
    "torch.cuda.is_available()"
   ]
  },
  {
   "cell_type": "code",
   "execution_count": 10,
   "id": "3f857bd8-fe0f-452c-b5d9-bc7944aecf1a",
   "metadata": {},
   "outputs": [],
   "source": [
    "import pandas as pd"
   ]
  },
  {
   "cell_type": "code",
   "execution_count": 11,
   "id": "f10a70e6-0ba8-4dba-88a1-dae3edd7c124",
   "metadata": {},
   "outputs": [],
   "source": [
    "complete_data_df=pd.read_csv(\"Meta-data/wos_metadata.csv\")"
   ]
  },
  {
   "cell_type": "code",
   "execution_count": 12,
   "id": "cfa7a8bd-9022-4a62-95b9-63c6f2f1cbf0",
   "metadata": {},
   "outputs": [
    {
     "data": {
      "text/html": [
       "<div>\n",
       "<style scoped>\n",
       "    .dataframe tbody tr th:only-of-type {\n",
       "        vertical-align: middle;\n",
       "    }\n",
       "\n",
       "    .dataframe tbody tr th {\n",
       "        vertical-align: top;\n",
       "    }\n",
       "\n",
       "    .dataframe thead th {\n",
       "        text-align: right;\n",
       "    }\n",
       "</style>\n",
       "<table border=\"1\" class=\"dataframe\">\n",
       "  <thead>\n",
       "    <tr style=\"text-align: right;\">\n",
       "      <th></th>\n",
       "      <th>Y1</th>\n",
       "      <th>Y2</th>\n",
       "      <th>Y</th>\n",
       "      <th>Domain</th>\n",
       "      <th>area</th>\n",
       "      <th>keywords</th>\n",
       "      <th>Abstract</th>\n",
       "    </tr>\n",
       "  </thead>\n",
       "  <tbody>\n",
       "    <tr>\n",
       "      <th>0</th>\n",
       "      <td>0</td>\n",
       "      <td>12</td>\n",
       "      <td>12</td>\n",
       "      <td>CS</td>\n",
       "      <td>Symbolic computation</td>\n",
       "      <td>(2+1)-dimensional non-linear optical waves; e...</td>\n",
       "      <td>(2 + 1)-dimensional non-linear optical waves t...</td>\n",
       "    </tr>\n",
       "    <tr>\n",
       "      <th>1</th>\n",
       "      <td>5</td>\n",
       "      <td>2</td>\n",
       "      <td>74</td>\n",
       "      <td>Medical</td>\n",
       "      <td>Alzheimer's Disease</td>\n",
       "      <td>Aging; Tau; Amyloid; PET; Alzheimer's disease...</td>\n",
       "      <td>(beta-amyloid (A beta) and tau pathology becom...</td>\n",
       "    </tr>\n",
       "    <tr>\n",
       "      <th>2</th>\n",
       "      <td>4</td>\n",
       "      <td>7</td>\n",
       "      <td>68</td>\n",
       "      <td>Civil</td>\n",
       "      <td>Green Building</td>\n",
       "      <td>LED lighting system; PV system; Distributed l...</td>\n",
       "      <td>(D)ecreasing of energy consumption and environ...</td>\n",
       "    </tr>\n",
       "    <tr>\n",
       "      <th>3</th>\n",
       "      <td>1</td>\n",
       "      <td>10</td>\n",
       "      <td>26</td>\n",
       "      <td>ECE</td>\n",
       "      <td>Electric motor</td>\n",
       "      <td>NdFeB magnets; Electric motor; Electric vehic...</td>\n",
       "      <td>(Hybrid) electric vehicles are assumed to play...</td>\n",
       "    </tr>\n",
       "    <tr>\n",
       "      <th>4</th>\n",
       "      <td>5</td>\n",
       "      <td>43</td>\n",
       "      <td>115</td>\n",
       "      <td>Medical</td>\n",
       "      <td>Parkinson's Disease</td>\n",
       "      <td>Parkinson's disease; dyskinesia; adenosine A(...</td>\n",
       "      <td>(L)-3,4-Dihydroxyphenylalanine ((L)-DOPA) rema...</td>\n",
       "    </tr>\n",
       "    <tr>\n",
       "      <th>...</th>\n",
       "      <td>...</td>\n",
       "      <td>...</td>\n",
       "      <td>...</td>\n",
       "      <td>...</td>\n",
       "      <td>...</td>\n",
       "      <td>...</td>\n",
       "      <td>...</td>\n",
       "    </tr>\n",
       "    <tr>\n",
       "      <th>46980</th>\n",
       "      <td>5</td>\n",
       "      <td>50</td>\n",
       "      <td>122</td>\n",
       "      <td>Medical</td>\n",
       "      <td>Sports Injuries</td>\n",
       "      <td>Karate; Verletzungsrisiko; Sportverletzung; P...</td>\n",
       "      <td>Zusammenfassung Hintergrund: Karate erfreut si...</td>\n",
       "    </tr>\n",
       "    <tr>\n",
       "      <th>46981</th>\n",
       "      <td>0</td>\n",
       "      <td>15</td>\n",
       "      <td>15</td>\n",
       "      <td>CS</td>\n",
       "      <td>Data structures</td>\n",
       "      <td>Z-Wave; Wireless; Embedded systems; Internet ...</td>\n",
       "      <td>Z-Wave is an implementation of home automation...</td>\n",
       "    </tr>\n",
       "    <tr>\n",
       "      <th>46982</th>\n",
       "      <td>5</td>\n",
       "      <td>38</td>\n",
       "      <td>110</td>\n",
       "      <td>Medical</td>\n",
       "      <td>Cancer</td>\n",
       "      <td>Antifouling biosensor; Peptide; Electrochemis...</td>\n",
       "      <td>Zwitterionic peptides were anchored to a condu...</td>\n",
       "    </tr>\n",
       "    <tr>\n",
       "      <th>46983</th>\n",
       "      <td>0</td>\n",
       "      <td>10</td>\n",
       "      <td>10</td>\n",
       "      <td>CS</td>\n",
       "      <td>Distributed computing</td>\n",
       "      <td>High Performance Computing; Parallel Computin...</td>\n",
       "      <td>ZY-3 has been acquiring high quality imagery s...</td>\n",
       "    </tr>\n",
       "    <tr>\n",
       "      <th>46984</th>\n",
       "      <td>6</td>\n",
       "      <td>0</td>\n",
       "      <td>125</td>\n",
       "      <td>biochemistry</td>\n",
       "      <td>Molecular biology</td>\n",
       "      <td>gene expression; MPK3; plant-host interaction...</td>\n",
       "      <td>Zymoseptoria tritici, the causal agent of sept...</td>\n",
       "    </tr>\n",
       "  </tbody>\n",
       "</table>\n",
       "<p>46985 rows × 7 columns</p>\n",
       "</div>"
      ],
      "text/plain": [
       "       Y1  Y2    Y         Domain                      area   \n",
       "0       0  12   12            CS     Symbolic computation    \\\n",
       "1       5   2   74       Medical      Alzheimer's Disease     \n",
       "2       4   7   68         Civil           Green Building     \n",
       "3       1  10   26           ECE           Electric motor     \n",
       "4       5  43  115       Medical      Parkinson's Disease     \n",
       "...    ..  ..  ...            ...                       ...   \n",
       "46980   5  50  122       Medical          Sports Injuries     \n",
       "46981   0  15   15            CS          Data structures     \n",
       "46982   5  38  110       Medical                   Cancer     \n",
       "46983   0  10   10            CS    Distributed computing     \n",
       "46984   6   0  125  biochemistry        Molecular biology     \n",
       "\n",
       "                                                keywords   \n",
       "0       (2+1)-dimensional non-linear optical waves; e...  \\\n",
       "1       Aging; Tau; Amyloid; PET; Alzheimer's disease...   \n",
       "2       LED lighting system; PV system; Distributed l...   \n",
       "3       NdFeB magnets; Electric motor; Electric vehic...   \n",
       "4       Parkinson's disease; dyskinesia; adenosine A(...   \n",
       "...                                                  ...   \n",
       "46980   Karate; Verletzungsrisiko; Sportverletzung; P...   \n",
       "46981   Z-Wave; Wireless; Embedded systems; Internet ...   \n",
       "46982   Antifouling biosensor; Peptide; Electrochemis...   \n",
       "46983   High Performance Computing; Parallel Computin...   \n",
       "46984   gene expression; MPK3; plant-host interaction...   \n",
       "\n",
       "                                                Abstract  \n",
       "0      (2 + 1)-dimensional non-linear optical waves t...  \n",
       "1      (beta-amyloid (A beta) and tau pathology becom...  \n",
       "2      (D)ecreasing of energy consumption and environ...  \n",
       "3      (Hybrid) electric vehicles are assumed to play...  \n",
       "4      (L)-3,4-Dihydroxyphenylalanine ((L)-DOPA) rema...  \n",
       "...                                                  ...  \n",
       "46980  Zusammenfassung Hintergrund: Karate erfreut si...  \n",
       "46981  Z-Wave is an implementation of home automation...  \n",
       "46982  Zwitterionic peptides were anchored to a condu...  \n",
       "46983  ZY-3 has been acquiring high quality imagery s...  \n",
       "46984  Zymoseptoria tritici, the causal agent of sept...  \n",
       "\n",
       "[46985 rows x 7 columns]"
      ]
     },
     "execution_count": 12,
     "metadata": {},
     "output_type": "execute_result"
    }
   ],
   "source": [
    "complete_data_df"
   ]
  },
  {
   "cell_type": "code",
   "execution_count": 15,
   "id": "3932bb45-d0e2-4eb2-9468-e3ad784759e3",
   "metadata": {},
   "outputs": [
    {
     "data": {
      "text/plain": [
       "'\\nOption B: 3000 sentences data\\n'"
      ]
     },
     "execution_count": 15,
     "metadata": {},
     "output_type": "execute_result"
    }
   ],
   "source": [
    "\"\"\"\n",
    "Two options of data to choose from\n",
    "\"\"\"\n",
    "\"\"\"\n",
    "Option A: Complete data\n",
    "\"\"\"\n",
    "filtered_data=complete_data_df[[\"Domain\",\"area\",\"Abstract\"]]\n",
    "\"\"\"\n",
    "Option B: 3000 sentences data\n",
    "\"\"\"\n",
    "# filtered_data=complete_data_df.query(\"(Domain=='Civil ' and area==' Smart Material  ') or\"\n",
    "#                         \"(Domain=='Civil ' and area==' Remote Sensing  ') or\"\n",
    "#                         \"(Domain=='MAE ' and area==' computer-aided design  ') or\"\n",
    "#                         \"(Domain=='MAE ' and area==' Materials Engineering  ') or\"\n",
    "#                         \"(Domain=='MAE ' and area==' Strength of materials  ') or\"\n",
    "#                         \"(Domain=='MAE ' and area==' Smart Material  ') or\"\n",
    "#                         \"(Domain=='CS ' and area==' Computer graphics  ') or\"\n",
    "#                         \"(Domain=='CS ' and area==' Computer vision  ') or\"\n",
    "#                         \"(Domain=='CS ' and area==' Image processing  ')\").reset_index(drop=True)[[\"Domain\",\"area\",\"Abstract\"]]"
   ]
  },
  {
   "cell_type": "code",
   "execution_count": 16,
   "id": "98e4ef27-7ec6-4cd3-84d8-9bb43c8bad3b",
   "metadata": {},
   "outputs": [
    {
     "name": "stderr",
     "output_type": "stream",
     "text": [
      "/tmp/ipykernel_622930/1419111401.py:13: SettingWithCopyWarning: \n",
      "A value is trying to be set on a copy of a slice from a DataFrame.\n",
      "Try using .loc[row_indexer,col_indexer] = value instead\n",
      "\n",
      "See the caveats in the documentation: https://pandas.pydata.org/pandas-docs/stable/user_guide/indexing.html#returning-a-view-versus-a-copy\n",
      "  filtered_data[\"Y1\"]=filtered_data[\"Domain\"].apply(lambda x: domain_unique_to_idx[x])\n",
      "/tmp/ipykernel_622930/1419111401.py:14: SettingWithCopyWarning: \n",
      "A value is trying to be set on a copy of a slice from a DataFrame.\n",
      "Try using .loc[row_indexer,col_indexer] = value instead\n",
      "\n",
      "See the caveats in the documentation: https://pandas.pydata.org/pandas-docs/stable/user_guide/indexing.html#returning-a-view-versus-a-copy\n",
      "  filtered_data[\"Y2\"]=filtered_data.apply(lambda x: dict_domain_2_area[x.Domain][x.area][0], axis=1)\n",
      "/tmp/ipykernel_622930/1419111401.py:15: SettingWithCopyWarning: \n",
      "A value is trying to be set on a copy of a slice from a DataFrame.\n",
      "Try using .loc[row_indexer,col_indexer] = value instead\n",
      "\n",
      "See the caveats in the documentation: https://pandas.pydata.org/pandas-docs/stable/user_guide/indexing.html#returning-a-view-versus-a-copy\n",
      "  filtered_data[\"Y\"]=filtered_data.apply(lambda x: dict_domain_2_area[x.Domain][x.area][1], axis=1)\n"
     ]
    },
    {
     "data": {
      "text/plain": [
       "{'CS ': {' Algorithm design  ': (0, 0),\n",
       "  ' Bioinformatics  ': (1, 1),\n",
       "  ' Computer graphics  ': (2, 2),\n",
       "  ' Computer programming  ': (3, 3),\n",
       "  ' Computer vision  ': (4, 4),\n",
       "  ' Cryptography  ': (5, 5),\n",
       "  ' Data structures  ': (6, 6),\n",
       "  ' Distributed computing  ': (7, 7),\n",
       "  ' Image processing  ': (8, 8),\n",
       "  ' Machine learning  ': (9, 9),\n",
       "  ' Operating systems  ': (10, 10),\n",
       "  ' Parallel computing  ': (11, 11),\n",
       "  ' Relational databases  ': (12, 12),\n",
       "  ' Software engineering  ': (13, 13),\n",
       "  ' Structured Storage  ': (14, 14),\n",
       "  ' Symbolic computation  ': (15, 15),\n",
       "  ' network security  ': (16, 16)},\n",
       " 'Civil ': {' Ambient Intelligence  ': (0, 17),\n",
       "  ' Bamboo as a Building Material  ': (1, 18),\n",
       "  ' Construction Management  ': (2, 19),\n",
       "  ' Geotextile  ': (3, 20),\n",
       "  ' Green Building  ': (4, 21),\n",
       "  ' Highway Network System  ': (5, 22),\n",
       "  ' Nano Concrete  ': (6, 23),\n",
       "  ' Rainwater Harvesting  ': (7, 24),\n",
       "  ' Remote Sensing  ': (8, 25),\n",
       "  ' Smart Material  ': (9, 26),\n",
       "  ' Solar Energy  ': (10, 27),\n",
       "  ' Stealth Technology  ': (11, 28),\n",
       "  ' Suspension Bridge  ': (12, 29),\n",
       "  ' Transparent Concrete  ': (13, 30),\n",
       "  ' Underwater Windmill  ': (14, 31),\n",
       "  ' Water Pollution  ': (15, 32)},\n",
       " 'ECE ': {' Analog signal processing  ': (0, 33),\n",
       "  ' Control engineering  ': (1, 34),\n",
       "  ' Digital control  ': (2, 35),\n",
       "  ' Electric motor  ': (3, 36),\n",
       "  ' Electrical circuits  ': (4, 37),\n",
       "  ' Electrical generator  ': (5, 38),\n",
       "  ' Electrical network  ': (6, 39),\n",
       "  ' Electricity  ': (7, 40),\n",
       "  ' Lorentz force law  ': (8, 41),\n",
       "  ' Microcontroller  ': (9, 42),\n",
       "  ' Operational amplifier  ': (10, 43),\n",
       "  ' PID controller  ': (11, 44),\n",
       "  ' Satellite radio  ': (12, 45),\n",
       "  ' Signal-flow graph  ': (13, 46),\n",
       "  ' Single-phase electric power  ': (14, 47),\n",
       "  ' State space representation  ': (15, 48),\n",
       "  ' System identification  ': (16, 49),\n",
       "  ' Voltage law  ': (17, 50)},\n",
       " 'MAE ': {' Fluid mechanics  ': (0, 51),\n",
       "  ' Hydraulics  ': (1, 52),\n",
       "  ' Internal combustion engine  ': (2, 53),\n",
       "  ' Machine design  ': (3, 54),\n",
       "  ' Manufacturing engineering  ': (4, 55),\n",
       "  ' Materials Engineering  ': (5, 56),\n",
       "  ' Strength of materials  ': (6, 57),\n",
       "  ' Thermodynamics  ': (7, 58),\n",
       "  ' computer-aided design  ': (8, 59)},\n",
       " 'Medical ': {' Addiction  ': (0, 60),\n",
       "  ' Allergies  ': (1, 61),\n",
       "  \" Alzheimer's Disease  \": (2, 62),\n",
       "  ' Ankylosing Spondylitis  ': (3, 63),\n",
       "  ' Anxiety  ': (4, 64),\n",
       "  ' Asthma  ': (5, 65),\n",
       "  ' Atopic Dermatitis  ': (6, 66),\n",
       "  ' Atrial Fibrillation  ': (7, 67),\n",
       "  ' Autism  ': (8, 68),\n",
       "  ' Bipolar Disorder  ': (9, 69),\n",
       "  ' Birth Control  ': (10, 70),\n",
       "  ' Cancer  ': (11, 71),\n",
       "  \" Children's Health  \": (12, 72),\n",
       "  \" Crohn's Disease  \": (13, 73),\n",
       "  ' Dementia  ': (14, 74),\n",
       "  ' Depression  ': (15, 75),\n",
       "  ' Diabetes  ': (16, 76),\n",
       "  ' Digestive Health  ': (17, 77),\n",
       "  ' Emergency Contraception  ': (18, 78),\n",
       "  ' Fungal Infection  ': (19, 79),\n",
       "  ' HIV/AIDS  ': (20, 80),\n",
       "  ' Headache  ': (21, 81),\n",
       "  ' Healthy Sleep  ': (22, 82),\n",
       "  ' Heart Disease  ': (23, 83),\n",
       "  ' Hepatitis C  ': (24, 84),\n",
       "  ' Hereditary Angioedema  ': (25, 85),\n",
       "  ' Hypothyroidism  ': (26, 86),\n",
       "  ' Idiopathic Pulmonary Fibrosis  ': (27, 87),\n",
       "  ' Irritable Bowel Syndrome  ': (28, 88),\n",
       "  ' Kidney Health  ': (29, 89),\n",
       "  ' Low Testosterone  ': (30, 90),\n",
       "  ' Lymphoma  ': (31, 91),\n",
       "  ' Medicare  ': (32, 92),\n",
       "  ' Menopause  ': (33, 93),\n",
       "  ' Mental Health  ': (34, 94),\n",
       "  ' Migraine  ': (35, 95),\n",
       "  ' Multiple Sclerosis  ': (36, 96),\n",
       "  ' Myelofibrosis  ': (37, 97),\n",
       "  ' Osteoarthritis  ': (38, 98),\n",
       "  ' Osteoporosis  ': (39, 99),\n",
       "  ' Outdoor Health  ': (40, 100),\n",
       "  ' Overactive Bladder  ': (41, 101),\n",
       "  ' Parenting  ': (42, 102),\n",
       "  \" Parkinson's Disease  \": (43, 103),\n",
       "  ' Polycythemia Vera  ': (44, 104),\n",
       "  ' Psoriasis  ': (45, 105),\n",
       "  ' Psoriatic Arthritis  ': (46, 106),\n",
       "  ' Rheumatoid Arthritis  ': (47, 107),\n",
       "  ' Schizophrenia  ': (48, 108),\n",
       "  ' Senior Health  ': (49, 109),\n",
       "  ' Skin Care  ': (50, 110),\n",
       "  ' Smoking Cessation  ': (51, 111),\n",
       "  ' Sports Injuries  ': (52, 112),\n",
       "  ' Sprains and Strains  ': (53, 113),\n",
       "  ' Stress Management  ': (54, 114),\n",
       "  ' Weight Loss  ': (55, 115)},\n",
       " 'Psychology  ': {' Antisocial personality disorder  ': (0, 116),\n",
       "  ' Attention  ': (1, 117),\n",
       "  ' Borderline personality disorder  ': (2, 118),\n",
       "  ' Child abuse  ': (3, 119),\n",
       "  ' Depression  ': (4, 120),\n",
       "  ' Eating disorders  ': (5, 121),\n",
       "  ' False memories  ': (6, 122),\n",
       "  ' Gender roles  ': (7, 123),\n",
       "  ' Leadership  ': (8, 124),\n",
       "  ' Media violence  ': (9, 125),\n",
       "  ' Nonverbal communication  ': (10, 126),\n",
       "  ' Person perception  ': (11, 127),\n",
       "  ' Prejudice  ': (12, 128),\n",
       "  ' Prenatal development  ': (13, 129),\n",
       "  ' Problem-solving  ': (14, 130),\n",
       "  ' Prosocial behavior  ': (15, 131),\n",
       "  ' Schizophrenia  ': (16, 132),\n",
       "  ' Seasonal affective disorder  ': (17, 133),\n",
       "  ' Social cognition  ': (18, 134)},\n",
       " 'biochemistry ': {' Cell biology  ': (0, 135),\n",
       "  ' DNA/RNA sequencing  ': (1, 136),\n",
       "  ' Enzymology  ': (2, 137),\n",
       "  ' Genetics  ': (3, 138),\n",
       "  ' Human Metabolism  ': (4, 139),\n",
       "  ' Immunology  ': (5, 140),\n",
       "  ' Molecular biology  ': (6, 141),\n",
       "  ' Northern blotting  ': (7, 142),\n",
       "  ' Polymerase chain reaction  ': (8, 143),\n",
       "  ' Southern blotting  ': (9, 144)}}"
      ]
     },
     "execution_count": 16,
     "metadata": {},
     "output_type": "execute_result"
    }
   ],
   "source": [
    "area_unique_to_idx={}\n",
    "domain_unique_to_idx={}\n",
    "dict_domain_2_area={}\n",
    "count=-1\n",
    "for domain,area in filtered_data.groupby([\"Domain\",\"area\"]).groups.keys():\n",
    "    count+=1\n",
    "    if domain not in dict_domain_2_area: \n",
    "        dict_domain_2_area[domain]={}\n",
    "        domain_unique_to_idx[domain]=len(domain_unique_to_idx)\n",
    "        # node_to_global_index[domain]=len(domain_unique_to_idx)\n",
    "    dict_domain_2_area[domain][area]=(len(dict_domain_2_area[domain]),count)\n",
    "    # node_to_global_index[area] = \n",
    "filtered_data[\"Y1\"]=filtered_data[\"Domain\"].apply(lambda x: domain_unique_to_idx[x])\n",
    "filtered_data[\"Y2\"]=filtered_data.apply(lambda x: dict_domain_2_area[x.Domain][x.area][0], axis=1)\n",
    "filtered_data[\"Y\"]=filtered_data.apply(lambda x: dict_domain_2_area[x.Domain][x.area][1], axis=1)\n",
    "\n",
    "dict_domain_2_area"
   ]
  },
  {
   "cell_type": "code",
   "execution_count": 17,
   "id": "60aa8538-eaa6-4f02-8a93-e98a36c41f39",
   "metadata": {},
   "outputs": [],
   "source": [
    "level1_num_nodes=len(dict_domain_2_area)\n",
    "level2_num_nodes=[len(dict_domain_2_area[domain]) for domain in dict_domain_2_area]\n",
    "cumulative_num_nodes_level2=[0]\n",
    "for i in range(1,len(level2_num_nodes)):\n",
    "    cumulative_num_nodes_level2.append(cumulative_num_nodes_level2[-1]+level2_num_nodes[i-1])\n",
    "cumulative_num_nodes_level2_list=cumulative_num_nodes_level2\n",
    "cumulative_num_nodes_level2=torch.Tensor(cumulative_num_nodes_level2).to(device)\n"
   ]
  },
  {
   "cell_type": "code",
   "execution_count": 18,
   "id": "400553fa-959a-49dd-b7a2-2308a011edd5",
   "metadata": {},
   "outputs": [
    {
     "data": {
      "text/plain": [
       "{0: 'CS ',\n",
       " 7: ' Algorithm design  ',\n",
       " 8: ' Bioinformatics  ',\n",
       " 9: ' Computer graphics  ',\n",
       " 10: ' Computer programming  ',\n",
       " 11: ' Computer vision  ',\n",
       " 12: ' Cryptography  ',\n",
       " 13: ' Data structures  ',\n",
       " 14: ' Distributed computing  ',\n",
       " 15: ' Image processing  ',\n",
       " 16: ' Machine learning  ',\n",
       " 17: ' Operating systems  ',\n",
       " 18: ' Parallel computing  ',\n",
       " 19: ' Relational databases  ',\n",
       " 20: ' Software engineering  ',\n",
       " 21: ' Structured Storage  ',\n",
       " 22: ' Symbolic computation  ',\n",
       " 23: ' network security  ',\n",
       " 1: 'Civil ',\n",
       " 24: ' Ambient Intelligence  ',\n",
       " 25: ' Bamboo as a Building Material  ',\n",
       " 26: ' Construction Management  ',\n",
       " 27: ' Geotextile  ',\n",
       " 28: ' Green Building  ',\n",
       " 29: ' Highway Network System  ',\n",
       " 30: ' Nano Concrete  ',\n",
       " 31: ' Rainwater Harvesting  ',\n",
       " 32: ' Remote Sensing  ',\n",
       " 33: ' Smart Material  ',\n",
       " 34: ' Solar Energy  ',\n",
       " 35: ' Stealth Technology  ',\n",
       " 36: ' Suspension Bridge  ',\n",
       " 37: ' Transparent Concrete  ',\n",
       " 38: ' Underwater Windmill  ',\n",
       " 39: ' Water Pollution  ',\n",
       " 2: 'ECE ',\n",
       " 40: ' Analog signal processing  ',\n",
       " 41: ' Control engineering  ',\n",
       " 42: ' Digital control  ',\n",
       " 43: ' Electric motor  ',\n",
       " 44: ' Electrical circuits  ',\n",
       " 45: ' Electrical generator  ',\n",
       " 46: ' Electrical network  ',\n",
       " 47: ' Electricity  ',\n",
       " 48: ' Lorentz force law  ',\n",
       " 49: ' Microcontroller  ',\n",
       " 50: ' Operational amplifier  ',\n",
       " 51: ' PID controller  ',\n",
       " 52: ' Satellite radio  ',\n",
       " 53: ' Signal-flow graph  ',\n",
       " 54: ' Single-phase electric power  ',\n",
       " 55: ' State space representation  ',\n",
       " 56: ' System identification  ',\n",
       " 57: ' Voltage law  ',\n",
       " 3: 'MAE ',\n",
       " 58: ' Fluid mechanics  ',\n",
       " 59: ' Hydraulics  ',\n",
       " 60: ' Internal combustion engine  ',\n",
       " 61: ' Machine design  ',\n",
       " 62: ' Manufacturing engineering  ',\n",
       " 63: ' Materials Engineering  ',\n",
       " 64: ' Strength of materials  ',\n",
       " 65: ' Thermodynamics  ',\n",
       " 66: ' computer-aided design  ',\n",
       " 4: 'Medical ',\n",
       " 67: ' Addiction  ',\n",
       " 68: ' Allergies  ',\n",
       " 69: \" Alzheimer's Disease  \",\n",
       " 70: ' Ankylosing Spondylitis  ',\n",
       " 71: ' Anxiety  ',\n",
       " 72: ' Asthma  ',\n",
       " 73: ' Atopic Dermatitis  ',\n",
       " 74: ' Atrial Fibrillation  ',\n",
       " 75: ' Autism  ',\n",
       " 76: ' Bipolar Disorder  ',\n",
       " 77: ' Birth Control  ',\n",
       " 78: ' Cancer  ',\n",
       " 79: \" Children's Health  \",\n",
       " 80: \" Crohn's Disease  \",\n",
       " 81: ' Dementia  ',\n",
       " 82: ' Depression  ',\n",
       " 83: ' Diabetes  ',\n",
       " 84: ' Digestive Health  ',\n",
       " 85: ' Emergency Contraception  ',\n",
       " 86: ' Fungal Infection  ',\n",
       " 87: ' HIV/AIDS  ',\n",
       " 88: ' Headache  ',\n",
       " 89: ' Healthy Sleep  ',\n",
       " 90: ' Heart Disease  ',\n",
       " 91: ' Hepatitis C  ',\n",
       " 92: ' Hereditary Angioedema  ',\n",
       " 93: ' Hypothyroidism  ',\n",
       " 94: ' Idiopathic Pulmonary Fibrosis  ',\n",
       " 95: ' Irritable Bowel Syndrome  ',\n",
       " 96: ' Kidney Health  ',\n",
       " 97: ' Low Testosterone  ',\n",
       " 98: ' Lymphoma  ',\n",
       " 99: ' Medicare  ',\n",
       " 100: ' Menopause  ',\n",
       " 101: ' Mental Health  ',\n",
       " 102: ' Migraine  ',\n",
       " 103: ' Multiple Sclerosis  ',\n",
       " 104: ' Myelofibrosis  ',\n",
       " 105: ' Osteoarthritis  ',\n",
       " 106: ' Osteoporosis  ',\n",
       " 107: ' Outdoor Health  ',\n",
       " 108: ' Overactive Bladder  ',\n",
       " 109: ' Parenting  ',\n",
       " 110: \" Parkinson's Disease  \",\n",
       " 111: ' Polycythemia Vera  ',\n",
       " 112: ' Psoriasis  ',\n",
       " 113: ' Psoriatic Arthritis  ',\n",
       " 114: ' Rheumatoid Arthritis  ',\n",
       " 115: ' Schizophrenia  ',\n",
       " 116: ' Senior Health  ',\n",
       " 117: ' Skin Care  ',\n",
       " 118: ' Smoking Cessation  ',\n",
       " 119: ' Sports Injuries  ',\n",
       " 120: ' Sprains and Strains  ',\n",
       " 121: ' Stress Management  ',\n",
       " 122: ' Weight Loss  ',\n",
       " 5: 'Psychology  ',\n",
       " 123: ' Antisocial personality disorder  ',\n",
       " 124: ' Attention  ',\n",
       " 125: ' Borderline personality disorder  ',\n",
       " 126: ' Child abuse  ',\n",
       " 127: ' Depression  ',\n",
       " 128: ' Eating disorders  ',\n",
       " 129: ' False memories  ',\n",
       " 130: ' Gender roles  ',\n",
       " 131: ' Leadership  ',\n",
       " 132: ' Media violence  ',\n",
       " 133: ' Nonverbal communication  ',\n",
       " 134: ' Person perception  ',\n",
       " 135: ' Prejudice  ',\n",
       " 136: ' Prenatal development  ',\n",
       " 137: ' Problem-solving  ',\n",
       " 138: ' Prosocial behavior  ',\n",
       " 139: ' Schizophrenia  ',\n",
       " 140: ' Seasonal affective disorder  ',\n",
       " 141: ' Social cognition  ',\n",
       " 6: 'biochemistry ',\n",
       " 142: ' Cell biology  ',\n",
       " 143: ' DNA/RNA sequencing  ',\n",
       " 144: ' Enzymology  ',\n",
       " 145: ' Genetics  ',\n",
       " 146: ' Human Metabolism  ',\n",
       " 147: ' Immunology  ',\n",
       " 148: ' Molecular biology  ',\n",
       " 149: ' Northern blotting  ',\n",
       " 150: ' Polymerase chain reaction  ',\n",
       " 151: ' Southern blotting  '}"
      ]
     },
     "execution_count": 18,
     "metadata": {},
     "output_type": "execute_result"
    }
   ],
   "source": [
    "dom_glbidx_2_area_glbidx={}\n",
    "global_index_to_name = {}\n",
    "for dom,dom_glbidx in domain_unique_to_idx.items():\n",
    "    if dom_glbidx not in dom_glbidx_2_area_glbidx: \n",
    "        dom_glbidx_2_area_glbidx[dom_glbidx]=[]\n",
    "    # cumulative_l2=cumulative_num_nodes_level2_list[dom_glbidx]\n",
    "        global_index_to_name[dom_glbidx] = dom\n",
    "    for area, (_,l2_levelwise_idx) in dict_domain_2_area[dom].items():\n",
    "        dom_glbidx_2_area_glbidx[dom_glbidx].append(level1_num_nodes+l2_levelwise_idx)\n",
    "        global_index_to_name[level1_num_nodes+l2_levelwise_idx] = area\n",
    "        \n",
    "global_index_to_name"
   ]
  },
  {
   "cell_type": "code",
   "execution_count": 19,
   "id": "1353dee1-01f0-414b-8975-ab8f1f6d74f5",
   "metadata": {},
   "outputs": [
    {
     "data": {
      "text/plain": [
       "{0: [7, 8, 9, 10, 11, 12, 13, 14, 15, 16, 17, 18, 19, 20, 21, 22, 23],\n",
       " 1: [24, 25, 26, 27, 28, 29, 30, 31, 32, 33, 34, 35, 36, 37, 38, 39],\n",
       " 2: [40, 41, 42, 43, 44, 45, 46, 47, 48, 49, 50, 51, 52, 53, 54, 55, 56, 57],\n",
       " 3: [58, 59, 60, 61, 62, 63, 64, 65, 66],\n",
       " 4: [67,\n",
       "  68,\n",
       "  69,\n",
       "  70,\n",
       "  71,\n",
       "  72,\n",
       "  73,\n",
       "  74,\n",
       "  75,\n",
       "  76,\n",
       "  77,\n",
       "  78,\n",
       "  79,\n",
       "  80,\n",
       "  81,\n",
       "  82,\n",
       "  83,\n",
       "  84,\n",
       "  85,\n",
       "  86,\n",
       "  87,\n",
       "  88,\n",
       "  89,\n",
       "  90,\n",
       "  91,\n",
       "  92,\n",
       "  93,\n",
       "  94,\n",
       "  95,\n",
       "  96,\n",
       "  97,\n",
       "  98,\n",
       "  99,\n",
       "  100,\n",
       "  101,\n",
       "  102,\n",
       "  103,\n",
       "  104,\n",
       "  105,\n",
       "  106,\n",
       "  107,\n",
       "  108,\n",
       "  109,\n",
       "  110,\n",
       "  111,\n",
       "  112,\n",
       "  113,\n",
       "  114,\n",
       "  115,\n",
       "  116,\n",
       "  117,\n",
       "  118,\n",
       "  119,\n",
       "  120,\n",
       "  121,\n",
       "  122],\n",
       " 5: [123,\n",
       "  124,\n",
       "  125,\n",
       "  126,\n",
       "  127,\n",
       "  128,\n",
       "  129,\n",
       "  130,\n",
       "  131,\n",
       "  132,\n",
       "  133,\n",
       "  134,\n",
       "  135,\n",
       "  136,\n",
       "  137,\n",
       "  138,\n",
       "  139,\n",
       "  140,\n",
       "  141],\n",
       " 6: [142, 143, 144, 145, 146, 147, 148, 149, 150, 151]}"
      ]
     },
     "execution_count": 19,
     "metadata": {},
     "output_type": "execute_result"
    }
   ],
   "source": [
    "dom_glbidx_2_area_glbidx"
   ]
  },
  {
   "cell_type": "code",
   "execution_count": 49,
   "id": "f9287d77-f08d-47c5-b319-aad9f51f542c",
   "metadata": {},
   "outputs": [],
   "source": [
    "A_directed=torch.zeros(level1_num_nodes+sum(level2_num_nodes),level1_num_nodes+sum(level2_num_nodes))\n",
    "for s in dom_glbidx_2_area_glbidx:\n",
    "    for t in dom_glbidx_2_area_glbidx[s]:\n",
    "        A_directed[t][s]=1\n",
    "A_bidirec=A_directed+A_directed.T"
   ]
  },
  {
   "cell_type": "code",
   "execution_count": 50,
   "id": "da02d868-340f-45e9-a661-ac8a5fa94f8e",
   "metadata": {},
   "outputs": [
    {
     "data": {
      "text/plain": [
       "tensor([[0., 0., 0.,  ..., 0., 0., 0.],\n",
       "        [0., 0., 0.,  ..., 0., 0., 0.],\n",
       "        [0., 0., 0.,  ..., 0., 0., 0.],\n",
       "        ...,\n",
       "        [0., 0., 0.,  ..., 0., 0., 0.],\n",
       "        [0., 0., 0.,  ..., 0., 0., 0.],\n",
       "        [0., 0., 0.,  ..., 0., 0., 0.]])"
      ]
     },
     "execution_count": 50,
     "metadata": {},
     "output_type": "execute_result"
    }
   ],
   "source": [
    "A_bidirec"
   ]
  },
  {
   "cell_type": "code",
   "execution_count": 51,
   "id": "30cb27dd-aa1a-4e72-a31b-9bc8a2a3e017",
   "metadata": {},
   "outputs": [
    {
     "data": {
      "text/plain": [
       "(7,\n",
       " [17, 16, 18, 9, 56, 19, 10],\n",
       " tensor([  0.,  17.,  33.,  51.,  60., 116., 135.], device='cuda:0'))"
      ]
     },
     "execution_count": 51,
     "metadata": {},
     "output_type": "execute_result"
    }
   ],
   "source": [
    "level1_num_nodes,level2_num_nodes,cumulative_num_nodes_level2"
   ]
  },
  {
   "cell_type": "code",
   "execution_count": 23,
   "id": "7369f376-5c55-4edc-ac13-0f06f2aa8a23",
   "metadata": {},
   "outputs": [
    {
     "data": {
      "text/html": [
       "<div>\n",
       "<style scoped>\n",
       "    .dataframe tbody tr th:only-of-type {\n",
       "        vertical-align: middle;\n",
       "    }\n",
       "\n",
       "    .dataframe tbody tr th {\n",
       "        vertical-align: top;\n",
       "    }\n",
       "\n",
       "    .dataframe thead th {\n",
       "        text-align: right;\n",
       "    }\n",
       "</style>\n",
       "<table border=\"1\" class=\"dataframe\">\n",
       "  <thead>\n",
       "    <tr style=\"text-align: right;\">\n",
       "      <th></th>\n",
       "      <th>Domain</th>\n",
       "      <th>area</th>\n",
       "      <th>Abstract</th>\n",
       "      <th>Y1</th>\n",
       "      <th>Y2</th>\n",
       "      <th>Y</th>\n",
       "    </tr>\n",
       "  </thead>\n",
       "  <tbody>\n",
       "    <tr>\n",
       "      <th>0</th>\n",
       "      <td>CS</td>\n",
       "      <td>Symbolic computation</td>\n",
       "      <td>(2 + 1)-dimensional non-linear optical waves t...</td>\n",
       "      <td>0</td>\n",
       "      <td>15</td>\n",
       "      <td>15</td>\n",
       "    </tr>\n",
       "    <tr>\n",
       "      <th>1</th>\n",
       "      <td>Medical</td>\n",
       "      <td>Alzheimer's Disease</td>\n",
       "      <td>(beta-amyloid (A beta) and tau pathology becom...</td>\n",
       "      <td>4</td>\n",
       "      <td>2</td>\n",
       "      <td>62</td>\n",
       "    </tr>\n",
       "    <tr>\n",
       "      <th>2</th>\n",
       "      <td>Civil</td>\n",
       "      <td>Green Building</td>\n",
       "      <td>(D)ecreasing of energy consumption and environ...</td>\n",
       "      <td>1</td>\n",
       "      <td>4</td>\n",
       "      <td>21</td>\n",
       "    </tr>\n",
       "    <tr>\n",
       "      <th>3</th>\n",
       "      <td>ECE</td>\n",
       "      <td>Electric motor</td>\n",
       "      <td>(Hybrid) electric vehicles are assumed to play...</td>\n",
       "      <td>2</td>\n",
       "      <td>3</td>\n",
       "      <td>36</td>\n",
       "    </tr>\n",
       "    <tr>\n",
       "      <th>4</th>\n",
       "      <td>Medical</td>\n",
       "      <td>Parkinson's Disease</td>\n",
       "      <td>(L)-3,4-Dihydroxyphenylalanine ((L)-DOPA) rema...</td>\n",
       "      <td>4</td>\n",
       "      <td>43</td>\n",
       "      <td>103</td>\n",
       "    </tr>\n",
       "    <tr>\n",
       "      <th>...</th>\n",
       "      <td>...</td>\n",
       "      <td>...</td>\n",
       "      <td>...</td>\n",
       "      <td>...</td>\n",
       "      <td>...</td>\n",
       "      <td>...</td>\n",
       "    </tr>\n",
       "    <tr>\n",
       "      <th>46980</th>\n",
       "      <td>Medical</td>\n",
       "      <td>Sports Injuries</td>\n",
       "      <td>Zusammenfassung Hintergrund: Karate erfreut si...</td>\n",
       "      <td>4</td>\n",
       "      <td>52</td>\n",
       "      <td>112</td>\n",
       "    </tr>\n",
       "    <tr>\n",
       "      <th>46981</th>\n",
       "      <td>CS</td>\n",
       "      <td>Data structures</td>\n",
       "      <td>Z-Wave is an implementation of home automation...</td>\n",
       "      <td>0</td>\n",
       "      <td>6</td>\n",
       "      <td>6</td>\n",
       "    </tr>\n",
       "    <tr>\n",
       "      <th>46982</th>\n",
       "      <td>Medical</td>\n",
       "      <td>Cancer</td>\n",
       "      <td>Zwitterionic peptides were anchored to a condu...</td>\n",
       "      <td>4</td>\n",
       "      <td>11</td>\n",
       "      <td>71</td>\n",
       "    </tr>\n",
       "    <tr>\n",
       "      <th>46983</th>\n",
       "      <td>CS</td>\n",
       "      <td>Distributed computing</td>\n",
       "      <td>ZY-3 has been acquiring high quality imagery s...</td>\n",
       "      <td>0</td>\n",
       "      <td>7</td>\n",
       "      <td>7</td>\n",
       "    </tr>\n",
       "    <tr>\n",
       "      <th>46984</th>\n",
       "      <td>biochemistry</td>\n",
       "      <td>Molecular biology</td>\n",
       "      <td>Zymoseptoria tritici, the causal agent of sept...</td>\n",
       "      <td>6</td>\n",
       "      <td>6</td>\n",
       "      <td>141</td>\n",
       "    </tr>\n",
       "  </tbody>\n",
       "</table>\n",
       "<p>46985 rows × 6 columns</p>\n",
       "</div>"
      ],
      "text/plain": [
       "              Domain                      area   \n",
       "0                CS     Symbolic computation    \\\n",
       "1           Medical      Alzheimer's Disease     \n",
       "2             Civil           Green Building     \n",
       "3               ECE           Electric motor     \n",
       "4           Medical      Parkinson's Disease     \n",
       "...              ...                       ...   \n",
       "46980       Medical          Sports Injuries     \n",
       "46981            CS          Data structures     \n",
       "46982       Medical                   Cancer     \n",
       "46983            CS    Distributed computing     \n",
       "46984  biochemistry        Molecular biology     \n",
       "\n",
       "                                                Abstract  Y1  Y2    Y  \n",
       "0      (2 + 1)-dimensional non-linear optical waves t...   0  15   15  \n",
       "1      (beta-amyloid (A beta) and tau pathology becom...   4   2   62  \n",
       "2      (D)ecreasing of energy consumption and environ...   1   4   21  \n",
       "3      (Hybrid) electric vehicles are assumed to play...   2   3   36  \n",
       "4      (L)-3,4-Dihydroxyphenylalanine ((L)-DOPA) rema...   4  43  103  \n",
       "...                                                  ...  ..  ..  ...  \n",
       "46980  Zusammenfassung Hintergrund: Karate erfreut si...   4  52  112  \n",
       "46981  Z-Wave is an implementation of home automation...   0   6    6  \n",
       "46982  Zwitterionic peptides were anchored to a condu...   4  11   71  \n",
       "46983  ZY-3 has been acquiring high quality imagery s...   0   7    7  \n",
       "46984  Zymoseptoria tritici, the causal agent of sept...   6   6  141  \n",
       "\n",
       "[46985 rows x 6 columns]"
      ]
     },
     "execution_count": 23,
     "metadata": {},
     "output_type": "execute_result"
    }
   ],
   "source": [
    "filtered_data"
   ]
  },
  {
   "cell_type": "code",
   "execution_count": 24,
   "id": "c3576b72-2c04-4a31-b1ff-f65ab7674d6c",
   "metadata": {},
   "outputs": [],
   "source": [
    "test_val=filtered_data.sample(frac=0.2,random_state=53)\n",
    "train=filtered_data.drop(test_val.index)\n",
    "val=test_val.sample(frac=0.5,random_state=101)\n",
    "test=test_val.drop(val.index)\n"
   ]
  },
  {
   "cell_type": "code",
   "execution_count": 25,
   "id": "23596d44-96a2-4a66-8fac-f50f6eb867d1",
   "metadata": {},
   "outputs": [
    {
     "data": {
      "text/html": [
       "<div>\n",
       "<style scoped>\n",
       "    .dataframe tbody tr th:only-of-type {\n",
       "        vertical-align: middle;\n",
       "    }\n",
       "\n",
       "    .dataframe tbody tr th {\n",
       "        vertical-align: top;\n",
       "    }\n",
       "\n",
       "    .dataframe thead th {\n",
       "        text-align: right;\n",
       "    }\n",
       "</style>\n",
       "<table border=\"1\" class=\"dataframe\">\n",
       "  <thead>\n",
       "    <tr style=\"text-align: right;\">\n",
       "      <th></th>\n",
       "      <th></th>\n",
       "      <th>Abstract</th>\n",
       "      <th>Y1</th>\n",
       "      <th>Y2</th>\n",
       "      <th>Y</th>\n",
       "    </tr>\n",
       "    <tr>\n",
       "      <th>Domain</th>\n",
       "      <th>area</th>\n",
       "      <th></th>\n",
       "      <th></th>\n",
       "      <th></th>\n",
       "      <th></th>\n",
       "    </tr>\n",
       "  </thead>\n",
       "  <tbody>\n",
       "    <tr>\n",
       "      <th rowspan=\"5\" valign=\"top\">CS</th>\n",
       "      <th>Algorithm design</th>\n",
       "      <td>45</td>\n",
       "      <td>45</td>\n",
       "      <td>45</td>\n",
       "      <td>45</td>\n",
       "    </tr>\n",
       "    <tr>\n",
       "      <th>Bioinformatics</th>\n",
       "      <td>39</td>\n",
       "      <td>39</td>\n",
       "      <td>39</td>\n",
       "      <td>39</td>\n",
       "    </tr>\n",
       "    <tr>\n",
       "      <th>Computer graphics</th>\n",
       "      <td>41</td>\n",
       "      <td>41</td>\n",
       "      <td>41</td>\n",
       "      <td>41</td>\n",
       "    </tr>\n",
       "    <tr>\n",
       "      <th>Computer programming</th>\n",
       "      <td>46</td>\n",
       "      <td>46</td>\n",
       "      <td>46</td>\n",
       "      <td>46</td>\n",
       "    </tr>\n",
       "    <tr>\n",
       "      <th>Computer vision</th>\n",
       "      <td>58</td>\n",
       "      <td>58</td>\n",
       "      <td>58</td>\n",
       "      <td>58</td>\n",
       "    </tr>\n",
       "    <tr>\n",
       "      <th>...</th>\n",
       "      <th>...</th>\n",
       "      <td>...</td>\n",
       "      <td>...</td>\n",
       "      <td>...</td>\n",
       "      <td>...</td>\n",
       "    </tr>\n",
       "    <tr>\n",
       "      <th rowspan=\"5\" valign=\"top\">biochemistry</th>\n",
       "      <th>Immunology</th>\n",
       "      <td>58</td>\n",
       "      <td>58</td>\n",
       "      <td>58</td>\n",
       "      <td>58</td>\n",
       "    </tr>\n",
       "    <tr>\n",
       "      <th>Molecular biology</th>\n",
       "      <td>84</td>\n",
       "      <td>84</td>\n",
       "      <td>84</td>\n",
       "      <td>84</td>\n",
       "    </tr>\n",
       "    <tr>\n",
       "      <th>Northern blotting</th>\n",
       "      <td>63</td>\n",
       "      <td>63</td>\n",
       "      <td>63</td>\n",
       "      <td>63</td>\n",
       "    </tr>\n",
       "    <tr>\n",
       "      <th>Polymerase chain reaction</th>\n",
       "      <td>70</td>\n",
       "      <td>70</td>\n",
       "      <td>70</td>\n",
       "      <td>70</td>\n",
       "    </tr>\n",
       "    <tr>\n",
       "      <th>Southern blotting</th>\n",
       "      <td>44</td>\n",
       "      <td>44</td>\n",
       "      <td>44</td>\n",
       "      <td>44</td>\n",
       "    </tr>\n",
       "  </tbody>\n",
       "</table>\n",
       "<p>141 rows × 4 columns</p>\n",
       "</div>"
      ],
      "text/plain": [
       "                                            Abstract  Y1  Y2   Y\n",
       "Domain        area                                              \n",
       "CS             Algorithm design                   45  45  45  45\n",
       "               Bioinformatics                     39  39  39  39\n",
       "               Computer graphics                  41  41  41  41\n",
       "               Computer programming               46  46  46  46\n",
       "               Computer vision                    58  58  58  58\n",
       "...                                              ...  ..  ..  ..\n",
       "biochemistry   Immunology                         58  58  58  58\n",
       "               Molecular biology                  84  84  84  84\n",
       "               Northern blotting                  63  63  63  63\n",
       "               Polymerase chain reaction          70  70  70  70\n",
       "               Southern blotting                  44  44  44  44\n",
       "\n",
       "[141 rows x 4 columns]"
      ]
     },
     "execution_count": 25,
     "metadata": {},
     "output_type": "execute_result"
    }
   ],
   "source": [
    "test.groupby([\"Domain\",\"area\"]).count()"
   ]
  },
  {
   "cell_type": "code",
   "execution_count": 26,
   "id": "1d348ba7-92c1-4a36-b849-b3dd0ecaf8f1",
   "metadata": {},
   "outputs": [],
   "source": [
    "\n",
    "from sentence_transformers import SentenceTransformer\n",
    "# from sklearn.cluster import AgglomerativeClustering\n",
    "# import numpy as np\n",
    "\n",
    "# embedder = SentenceTransformer('all-MiniLM-L6-v2')\n"
   ]
  },
  {
   "cell_type": "code",
   "execution_count": 27,
   "id": "903b165c-a9a8-4958-93f3-59528242be3b",
   "metadata": {},
   "outputs": [
    {
     "data": {
      "text/plain": [
       "SentenceTransformer(\n",
       "  (0): Transformer({'max_seq_length': 256, 'do_lower_case': False}) with Transformer model: BertModel \n",
       "  (1): Pooling({'word_embedding_dimension': 384, 'pooling_mode_cls_token': False, 'pooling_mode_mean_tokens': True, 'pooling_mode_max_tokens': False, 'pooling_mode_mean_sqrt_len_tokens': False})\n",
       "  (2): Normalize()\n",
       ")"
      ]
     },
     "execution_count": 27,
     "metadata": {},
     "output_type": "execute_result"
    }
   ],
   "source": [
    "embedder = SentenceTransformer('all-MiniLM-L6-v2').to(device)\n",
    "embedder.eval()"
   ]
  },
  {
   "cell_type": "code",
   "execution_count": 28,
   "id": "1dbee7d2-9555-4636-ac96-ca4b44cba3dd",
   "metadata": {},
   "outputs": [
    {
     "name": "stdout",
     "output_type": "stream",
     "text": [
      "False\n",
      "False\n",
      "False\n",
      "False\n",
      "False\n",
      "False\n",
      "False\n",
      "False\n",
      "False\n",
      "False\n",
      "False\n",
      "False\n",
      "False\n",
      "False\n",
      "False\n",
      "False\n",
      "False\n",
      "False\n",
      "False\n",
      "False\n",
      "False\n",
      "False\n",
      "False\n",
      "False\n",
      "False\n",
      "False\n",
      "False\n",
      "False\n",
      "False\n",
      "False\n",
      "False\n",
      "False\n",
      "False\n",
      "False\n",
      "False\n",
      "False\n",
      "False\n",
      "False\n",
      "False\n",
      "False\n",
      "False\n",
      "False\n",
      "False\n",
      "False\n",
      "False\n",
      "False\n",
      "False\n",
      "False\n",
      "False\n",
      "False\n",
      "False\n",
      "False\n",
      "False\n",
      "False\n",
      "False\n",
      "False\n",
      "False\n",
      "False\n",
      "False\n",
      "False\n",
      "False\n",
      "False\n",
      "False\n",
      "False\n",
      "False\n",
      "False\n",
      "False\n",
      "False\n",
      "False\n",
      "False\n",
      "False\n",
      "False\n",
      "False\n",
      "False\n",
      "False\n",
      "False\n",
      "False\n",
      "False\n",
      "False\n",
      "False\n",
      "False\n",
      "False\n",
      "False\n",
      "False\n",
      "False\n",
      "False\n",
      "False\n",
      "False\n",
      "False\n",
      "False\n",
      "False\n",
      "False\n",
      "False\n",
      "False\n",
      "False\n",
      "False\n",
      "False\n",
      "False\n",
      "False\n",
      "False\n",
      "False\n",
      "False\n",
      "False\n"
     ]
    }
   ],
   "source": [
    "embedder.requires_grad_(False)\n",
    "for k,v in embedder.named_parameters():\n",
    "    print(v.requires_grad)\n"
   ]
  },
  {
   "cell_type": "code",
   "execution_count": 29,
   "id": "3f4579ce-37f0-4ec6-9572-939b2ad0aa15",
   "metadata": {},
   "outputs": [],
   "source": [
    "# embedder.encode([\"ghbhb uhuygh\"]).shape\n",
    "hidden_dim=384"
   ]
  },
  {
   "cell_type": "code",
   "execution_count": 44,
   "id": "c4eac745-3ce3-4cb1-ad44-2201fd8b72b6",
   "metadata": {},
   "outputs": [],
   "source": [
    "def max_scores(val_scores,test_scores):\n",
    "    max_epoch=0\n",
    "    max_val_score=-1\n",
    "    for epoch in range(len(val_scores)):\n",
    "        if val_scores[epoch][0]>max_val_score:\n",
    "            max_val_score=val_scores[epoch][0]\n",
    "            max_epoch=epoch\n",
    "    return max_epoch,val_scores[max_epoch],test_scores[max_epoch]"
   ]
  },
  {
   "cell_type": "code",
   "execution_count": 32,
   "id": "800d44d5-156f-4b9b-a4a5-72222082e302",
   "metadata": {},
   "outputs": [],
   "source": [
    "class WOSDataset(torch.utils.data.Dataset):\n",
    "    \"\"\"Face Landmarks dataset.\"\"\"\n",
    "\n",
    "    def __init__(self, df):\n",
    "        \"\"\"\n",
    "        \"\"\"\n",
    "        self.x_d=embedder.encode(df[\"Abstract\"].to_list(),convert_to_tensor=True)\n",
    "        self.x_y1=embedder.encode(df[\"Domain\"].to_list(),convert_to_tensor=True)\n",
    "        self.x_y2=embedder.encode(df[\"area\"].to_list(),convert_to_tensor=True)\n",
    "        self.y=torch.LongTensor(df[\"Y\"].to_list())\n",
    "        self.y1=torch.LongTensor(df[\"Y1\"].to_list())\n",
    "        self.y2=torch.LongTensor(df[\"Y2\"].to_list())\n",
    "\n",
    "    def __len__(self):\n",
    "        return len(self.x_d)\n",
    "\n",
    "    def __getitem__(self, idx):\n",
    "\n",
    "        return (self.x_d[idx],self.x_y1[idx],self.x_y2[idx],\n",
    "                self.y[idx],self.y1[idx],self.y2[idx])"
   ]
  },
  {
   "cell_type": "code",
   "execution_count": 33,
   "id": "41eb8046-24f5-4846-b17e-8962a7b95d28",
   "metadata": {},
   "outputs": [],
   "source": [
    "train_dataset=WOSDataset(train)\n",
    "val_dataset=WOSDataset(val)\n",
    "test_dataset=WOSDataset(test)\n"
   ]
  },
  {
   "cell_type": "code",
   "execution_count": 34,
   "id": "87ca7caf-7037-4e72-9ce6-f5f5014a802d",
   "metadata": {},
   "outputs": [],
   "source": [
    "train_dl = torch.utils.data.DataLoader(train_dataset, batch_size=32,shuffle=True, num_workers=0)\n",
    "val_dl = torch.utils.data.DataLoader(val_dataset, batch_size=64,shuffle=False, num_workers=0)\n",
    "test_dl = torch.utils.data.DataLoader(test_dataset, batch_size=64,shuffle=False, num_workers=0)\n"
   ]
  },
  {
   "cell_type": "code",
   "execution_count": 35,
   "id": "c79766bb-d3d0-4069-83c2-7ab9401771dc",
   "metadata": {},
   "outputs": [],
   "source": [
    "level1_encoded=embedder.encode(list(dict_domain_2_area.keys()))"
   ]
  },
  {
   "cell_type": "code",
   "execution_count": 39,
   "id": "e407264f-0681-476a-9fbe-65cccd6f507e",
   "metadata": {},
   "outputs": [],
   "source": [
    "class HiererchicalModel(torch.nn.Module):\n",
    "    def __init__(self):\n",
    "        super(HiererchicalModel, self).__init__()\n",
    "        self.d=hidden_dim\n",
    "        self.text_enc=embedder\n",
    "        self.lev1_nodes_encoded=level1_encoded\n",
    "        # self.cumulative_num_labels_l2=cumulative_num_nodes_level2\n",
    "        self.embedding_transformer=torch.nn.Linear(2*self.d,self.d)\n",
    "        self.act=torch.nn.GELU()\n",
    "        self.lin_class_lev1=torch.nn.Linear(self.d,level1_num_nodes)\n",
    "        self.lin_class_lev2=torch.nn.ModuleList([torch.nn.Linear(self.d,level2_num_nodes[i]) \n",
    "                                                 for i in range(level1_num_nodes)])\n",
    "        self.loss_fn=torch.nn.CrossEntropyLoss(reduction=\"mean\")\n",
    "    \n",
    "    def forward(self,x_d,y1=None,y2=None,x_y1=None):\n",
    "        \"\"\"\n",
    "        :param\n",
    "        x_d --> (B x D)\n",
    "        x_l1 --> (B x D)\n",
    "        x_l2 --> (B x D)\n",
    "        \n",
    "        \"\"\"\n",
    "        B= x_d.shape[0]\n",
    "        loss=0\n",
    "        scores_lev1=self.lin_class_lev1(x_d)  # returns B x num_lev1_child\n",
    "        if y1 is None:\n",
    "            # Infer level1 labels\n",
    "            y1=torch.argmax(scores_lev1,dim=-1)\n",
    "            x_y1=torch.Tensor([self.lev1_nodes_encoded[i] for i in y1]).cuda()\n",
    "        else:\n",
    "            loss+=self.loss_fn(scores_lev1,y1)\n",
    "        x_d1=self.embedding_transformer(torch.cat((x_d,x_y1),dim=1)) # returns N x D\n",
    "        \n",
    "        scores_lev2=[self.lin_class_lev2[y1[i]](x_d1[i]) for i in range(B)]\n",
    "        if y2 is None:\n",
    "            # Infer level2 labels\n",
    "            y2=torch.Tensor([torch.argmax(scores_lev2[i]) for i in range(B)]).cuda()\n",
    "            # print(y2.shape)\n",
    "        else:\n",
    "            # y2=y2.view(B,1)\n",
    "            # print(y2[0].shape)\n",
    "            loss+=sum([self.loss_fn(scores_lev2[i],y2[i]) for i in range(B)])\n",
    "        \n",
    "        return loss,[scores_lev1,scores_lev2],[y1,y2]\n",
    "        \n",
    "model=HiererchicalModel().cuda()\n",
    "optim=torch.optim.AdamW(params=model.parameters(),lr=1e-3)"
   ]
  },
  {
   "cell_type": "code",
   "execution_count": 40,
   "id": "1692a066-5bba-4d72-97d4-fb4b86243572",
   "metadata": {},
   "outputs": [],
   "source": [
    "\n",
    "def eval_fn(model,dl):\n",
    "    model.eval()\n",
    "    correct=0\n",
    "    total_num=0\n",
    "    correct_list=[]\n",
    "    actual_class_list=[]\n",
    "    predict_list=[]\n",
    "    with torch.no_grad():\n",
    "        for x_d,x_y1,x_y2,y,y1,y2 in dl:\n",
    "            loss,_,ys=model(x_d.to(device))\n",
    "            yp1=ys[0]\n",
    "            yp2=ys[1]\n",
    "            y_pred=cumulative_num_nodes_level2[yp1]+yp2\n",
    "            temp=(y.to(device)==y_pred)\n",
    "            actual_class_list.extend(y.tolist())\n",
    "            predict_list.extend(y_pred.cpu().tolist())\n",
    "            correct+=torch.sum(temp).to(device).cpu().numpy()\n",
    "            total_num+=len(x_d)\n",
    "            correct_list+=temp.to(device).tolist()\n",
    "    f1_score_my=f1_score(actual_class_list, predict_list, average='macro')\n",
    "    return correct/total_num,correct_list,f1_score_my\n"
   ]
  },
  {
   "cell_type": "markdown",
   "id": "60e60008",
   "metadata": {},
   "source": [
    "#### Baseline 1: Ground Truth at Each Level"
   ]
  },
  {
   "cell_type": "code",
   "execution_count": 67,
   "id": "deb16712-661e-452e-9881-718378091489",
   "metadata": {},
   "outputs": [
    {
     "name": "stderr",
     "output_type": "stream",
     "text": [
      "Epochs:   0%|                                                                                                                                                                             | 0/1 [00:00<?, ?it/s]\n"
     ]
    },
    {
     "ename": "TypeError",
     "evalue": "forward() got an unexpected keyword argument 'y1'",
     "output_type": "error",
     "traceback": [
      "\u001b[0;31m---------------------------------------------------------------------------\u001b[0m",
      "\u001b[0;31mTypeError\u001b[0m                                 Traceback (most recent call last)",
      "Cell \u001b[0;32mIn[67], line 8\u001b[0m\n\u001b[1;32m      6\u001b[0m model\u001b[38;5;241m.\u001b[39mtrain()\n\u001b[1;32m      7\u001b[0m \u001b[38;5;28;01mfor\u001b[39;00m x_d,x_y1,x_y2,y,y1,y2 \u001b[38;5;129;01min\u001b[39;00m train_dl:\n\u001b[0;32m----> 8\u001b[0m     loss,_,_\u001b[38;5;241m=\u001b[39m\u001b[43mmodel\u001b[49m\u001b[43m(\u001b[49m\u001b[43mx_d\u001b[49m\u001b[38;5;241;43m.\u001b[39;49m\u001b[43mto\u001b[49m\u001b[43m(\u001b[49m\u001b[43mdevice\u001b[49m\u001b[43m)\u001b[49m\u001b[43m,\u001b[49m\u001b[43my1\u001b[49m\u001b[38;5;241;43m=\u001b[39;49m\u001b[43my1\u001b[49m\u001b[38;5;241;43m.\u001b[39;49m\u001b[43mto\u001b[49m\u001b[43m(\u001b[49m\u001b[43mdevice\u001b[49m\u001b[43m)\u001b[49m\u001b[43m,\u001b[49m\u001b[43my2\u001b[49m\u001b[38;5;241;43m=\u001b[39;49m\u001b[43my2\u001b[49m\u001b[38;5;241;43m.\u001b[39;49m\u001b[43mto\u001b[49m\u001b[43m(\u001b[49m\u001b[43mdevice\u001b[49m\u001b[43m)\u001b[49m\u001b[43m,\u001b[49m\u001b[43mx_y1\u001b[49m\u001b[38;5;241;43m=\u001b[39;49m\u001b[43mx_y1\u001b[49m\u001b[38;5;241;43m.\u001b[39;49m\u001b[43mto\u001b[49m\u001b[43m(\u001b[49m\u001b[43mdevice\u001b[49m\u001b[43m)\u001b[49m\u001b[43m)\u001b[49m\n\u001b[1;32m      9\u001b[0m     optim\u001b[38;5;241m.\u001b[39mzero_grad()\n\u001b[1;32m     10\u001b[0m     loss\u001b[38;5;241m.\u001b[39mbackward()\n",
      "File \u001b[0;32m~/miniconda3/envs/myenv_py3.8_another/lib/python3.8/site-packages/torch/nn/modules/module.py:1130\u001b[0m, in \u001b[0;36mModule._call_impl\u001b[0;34m(self, *input, **kwargs)\u001b[0m\n\u001b[1;32m   1126\u001b[0m \u001b[38;5;66;03m# If we don't have any hooks, we want to skip the rest of the logic in\u001b[39;00m\n\u001b[1;32m   1127\u001b[0m \u001b[38;5;66;03m# this function, and just call forward.\u001b[39;00m\n\u001b[1;32m   1128\u001b[0m \u001b[38;5;28;01mif\u001b[39;00m \u001b[38;5;129;01mnot\u001b[39;00m (\u001b[38;5;28mself\u001b[39m\u001b[38;5;241m.\u001b[39m_backward_hooks \u001b[38;5;129;01mor\u001b[39;00m \u001b[38;5;28mself\u001b[39m\u001b[38;5;241m.\u001b[39m_forward_hooks \u001b[38;5;129;01mor\u001b[39;00m \u001b[38;5;28mself\u001b[39m\u001b[38;5;241m.\u001b[39m_forward_pre_hooks \u001b[38;5;129;01mor\u001b[39;00m _global_backward_hooks\n\u001b[1;32m   1129\u001b[0m         \u001b[38;5;129;01mor\u001b[39;00m _global_forward_hooks \u001b[38;5;129;01mor\u001b[39;00m _global_forward_pre_hooks):\n\u001b[0;32m-> 1130\u001b[0m     \u001b[38;5;28;01mreturn\u001b[39;00m \u001b[43mforward_call\u001b[49m\u001b[43m(\u001b[49m\u001b[38;5;241;43m*\u001b[39;49m\u001b[38;5;28;43minput\u001b[39;49m\u001b[43m,\u001b[49m\u001b[43m \u001b[49m\u001b[38;5;241;43m*\u001b[39;49m\u001b[38;5;241;43m*\u001b[39;49m\u001b[43mkwargs\u001b[49m\u001b[43m)\u001b[49m\n\u001b[1;32m   1131\u001b[0m \u001b[38;5;66;03m# Do not call functions when jit is used\u001b[39;00m\n\u001b[1;32m   1132\u001b[0m full_backward_hooks, non_full_backward_hooks \u001b[38;5;241m=\u001b[39m [], []\n",
      "\u001b[0;31mTypeError\u001b[0m: forward() got an unexpected keyword argument 'y1'"
     ]
    }
   ],
   "source": [
    "num_epochs = 1\n",
    "accuracies=[]\n",
    "val_scores=[]\n",
    "test_scores=[]\n",
    "for epoch in tqdm(range(num_epochs),desc=\"Epochs\"):\n",
    "    model.train()\n",
    "    for x_d,x_y1,x_y2,y,y1,y2 in train_dl:\n",
    "        loss,_,_=model(x_d.to(device),y1=y1.to(device),y2=y2.to(device),x_y1=x_y1.to(device))\n",
    "        optim.zero_grad()\n",
    "        loss.backward()\n",
    "        optim.step()\n",
    "    val_accuracy,_,val_f1_score = eval_fn(model,val_dl)\n",
    "    test_accuracy,_,test_f1_score = eval_fn(model,test_dl)\n",
    "    val_scores.append((val_accuracy,val_f1_score))\n",
    "    test_scores.append((test_accuracy,test_f1_score))\n",
    "    print(\"Epoch \",epoch,\"---\",val_accuracy)        \n",
    "best_epoch,best_val_scores,best_test_scores=max_scores(val_scores,test_scores)\n",
    "# epochs = [*range(num_epochs)]\n",
    "# plt.plot(epochs, accuracies, label=\"Validation Accuracy\")\n"
   ]
  },
  {
   "cell_type": "code",
   "execution_count": 68,
   "id": "d2602b2f-d90f-457d-8312-81b1b2de0fbc",
   "metadata": {},
   "outputs": [
    {
     "ename": "IndexError",
     "evalue": "list index out of range",
     "output_type": "error",
     "traceback": [
      "\u001b[0;31m---------------------------------------------------------------------------\u001b[0m",
      "\u001b[0;31mIndexError\u001b[0m                                Traceback (most recent call last)",
      "Cell \u001b[0;32mIn[68], line 1\u001b[0m\n\u001b[0;32m----> 1\u001b[0m best_epoch,best_val_scores,best_test_scores\u001b[38;5;241m=\u001b[39m\u001b[43mmax_scores\u001b[49m\u001b[43m(\u001b[49m\u001b[43mval_scores\u001b[49m\u001b[43m,\u001b[49m\u001b[43mtest_scores\u001b[49m\u001b[43m)\u001b[49m\n",
      "Cell \u001b[0;32mIn[66], line 8\u001b[0m, in \u001b[0;36mmax_scores\u001b[0;34m(val_scores, test_scores)\u001b[0m\n\u001b[1;32m      6\u001b[0m         max_val_score\u001b[38;5;241m=\u001b[39mval_scores[epoch][\u001b[38;5;241m0\u001b[39m]\n\u001b[1;32m      7\u001b[0m         max_epoch\u001b[38;5;241m=\u001b[39mepoch\n\u001b[0;32m----> 8\u001b[0m \u001b[38;5;28;01mreturn\u001b[39;00m max_epoch,\u001b[43mval_scores\u001b[49m\u001b[43m[\u001b[49m\u001b[43mmax_epoch\u001b[49m\u001b[43m]\u001b[49m,test_scores[max_epoch]\n",
      "\u001b[0;31mIndexError\u001b[0m: list index out of range"
     ]
    }
   ],
   "source": [
    "best_epoch,best_val_scores,best_test_scores=max_scores(val_scores,test_scores)\n"
   ]
  },
  {
   "cell_type": "code",
   "execution_count": 30,
   "id": "66dbee82-a699-42e2-9aad-a77bdb94b88e",
   "metadata": {},
   "outputs": [],
   "source": [
    "test[\"accuracy\"]=test_correct_list"
   ]
  },
  {
   "cell_type": "code",
   "execution_count": 31,
   "id": "cca1366c-9294-4ffa-b2bf-6e6f7b2a5a87",
   "metadata": {},
   "outputs": [
    {
     "data": {
      "text/html": [
       "<div>\n",
       "<style scoped>\n",
       "    .dataframe tbody tr th:only-of-type {\n",
       "        vertical-align: middle;\n",
       "    }\n",
       "\n",
       "    .dataframe tbody tr th {\n",
       "        vertical-align: top;\n",
       "    }\n",
       "\n",
       "    .dataframe thead th {\n",
       "        text-align: right;\n",
       "    }\n",
       "</style>\n",
       "<table border=\"1\" class=\"dataframe\">\n",
       "  <thead>\n",
       "    <tr style=\"text-align: right;\">\n",
       "      <th></th>\n",
       "      <th></th>\n",
       "      <th>accuracy</th>\n",
       "    </tr>\n",
       "    <tr>\n",
       "      <th>Domain</th>\n",
       "      <th>area</th>\n",
       "      <th></th>\n",
       "    </tr>\n",
       "  </thead>\n",
       "  <tbody>\n",
       "    <tr>\n",
       "      <th rowspan=\"3\" valign=\"top\">CS</th>\n",
       "      <th>Computer graphics</th>\n",
       "      <td>0.852941</td>\n",
       "    </tr>\n",
       "    <tr>\n",
       "      <th>Computer vision</th>\n",
       "      <td>0.717949</td>\n",
       "    </tr>\n",
       "    <tr>\n",
       "      <th>Image processing</th>\n",
       "      <td>0.666667</td>\n",
       "    </tr>\n",
       "    <tr>\n",
       "      <th rowspan=\"2\" valign=\"top\">Civil</th>\n",
       "      <th>Remote Sensing</th>\n",
       "      <td>0.755556</td>\n",
       "    </tr>\n",
       "    <tr>\n",
       "      <th>Smart Material</th>\n",
       "      <td>0.725000</td>\n",
       "    </tr>\n",
       "    <tr>\n",
       "      <th rowspan=\"3\" valign=\"top\">MAE</th>\n",
       "      <th>Materials Engineering</th>\n",
       "      <td>0.695652</td>\n",
       "    </tr>\n",
       "    <tr>\n",
       "      <th>Strength of materials</th>\n",
       "      <td>0.767442</td>\n",
       "    </tr>\n",
       "    <tr>\n",
       "      <th>computer-aided design</th>\n",
       "      <td>0.645161</td>\n",
       "    </tr>\n",
       "  </tbody>\n",
       "</table>\n",
       "</div>"
      ],
      "text/plain": [
       "                                 accuracy\n",
       "Domain area                              \n",
       "CS      Computer graphics        0.852941\n",
       "        Computer vision          0.717949\n",
       "        Image processing         0.666667\n",
       "Civil   Remote Sensing           0.755556\n",
       "        Smart Material           0.725000\n",
       "MAE     Materials Engineering    0.695652\n",
       "        Strength of materials    0.767442\n",
       "        computer-aided design    0.645161"
      ]
     },
     "execution_count": 31,
     "metadata": {},
     "output_type": "execute_result"
    }
   ],
   "source": [
    "test.groupby([\"Domain\",\"area\"]).agg({\"accuracy\":np.mean})"
   ]
  },
  {
   "cell_type": "markdown",
   "id": "dc1320c5",
   "metadata": {},
   "source": [
    "##### Learning Rate Tuning"
   ]
  },
  {
   "cell_type": "code",
   "execution_count": 49,
   "id": "c646fe26",
   "metadata": {},
   "outputs": [],
   "source": [
    "# import matplotlib.pyplot as plt\n",
    "# lr_arr = np.logspace(-5, 0, num=6)\n",
    "# num_epochs=10\n",
    "# accuracies = []\n",
    "# for lr_val in lr_arr:\n",
    "#     optim=torch.optim.AdamW(params=model.parameters(),lr=lr_val)\n",
    "#     for epoch in tqdm(range(num_epochs),desc=\"Epochs\"):\n",
    "#         model.train()\n",
    "#         # for x_d,x_y1,x_y2,y,y1,y2 in tqdm(train_dl,total=len(train)//32):\n",
    "#         for x_d,x_y1,x_y2,y,y1,y2 in train_dl:\n",
    "#             loss,scores,ys=model(x_d.to(device),y1=y1.to(device),y2=y2.to(device),x_y1=x_y1.to(device))\n",
    "#             optim.zero_grad()\n",
    "#             loss.backward()\n",
    "#             optim.step()\n",
    "#         accuracy = eval_fn(model,val_dl)[0]\n",
    "        \n",
    "#         print(\"Epoch \",epoch,\"---\",accuracy)   \n",
    "#     print(\"Accuracy to append \", accuracy)\n",
    "#     accuracies.append(accuracy)\n",
    "\n",
    "# plt.plot(lr_arr, accuracies, label=\"Validation Accuracy\")\n",
    "# plt.xscale(\"log\")"
   ]
  },
  {
   "cell_type": "markdown",
   "id": "6c37f9e3",
   "metadata": {},
   "source": [
    "#### Baseline 3: Classification into all L2 labels directly"
   ]
  },
  {
   "cell_type": "code",
   "execution_count": 50,
   "id": "891dd279",
   "metadata": {},
   "outputs": [],
   "source": [
    "class HiererchicalModelB3(torch.nn.Module):\n",
    "    def __init__(self):\n",
    "        super(HiererchicalModelB3, self).__init__()\n",
    "        self.d=hidden_dim\n",
    "        self.act=torch.nn.GELU()\n",
    "        self.ll1 = torch.nn.Linear(self.d, self.d)\n",
    "        self.ll2 = torch.nn.Linear(self.d, self.d)\n",
    "        self.ll3 = torch.nn.Linear(self.d, self.d)\n",
    "        self.lin_class_lev2 = torch.nn.Linear(self.d, np.sum(level2_num_nodes))\n",
    "        self.loss_fn=torch.nn.CrossEntropyLoss(reduction=\"mean\")\n",
    "    \n",
    "    def forward(self,x_d, y2=None):\n",
    "        \"\"\"\n",
    "        :param\n",
    "        x_d --> (B x D)\n",
    "        x_l2 --> (B x D)\n",
    "        \n",
    "        \"\"\"\n",
    "        B= x_d.shape[0]\n",
    "        loss=0\n",
    "        x_d=self.act(self.ll1(x_d))\n",
    "        x_d=self.act(self.ll2(x_d))\n",
    "        x_d=self.act(self.ll3(x_d))\n",
    "        scores_lev2=self.lin_class_lev2(x_d)  # returns B x num_lev1_child\n",
    "        if y2 is None:\n",
    "            # Infer level1 labels\n",
    "            y2=torch.argmax(scores_lev2,dim=-1)\n",
    "            # y2 = y2.type(torch.LongTensor) \n",
    "        else:\n",
    "            loss+=self.loss_fn(scores_lev2,y2)\n",
    "        \n",
    "        return loss, scores_lev2, y2\n",
    "        \n",
    "model=HiererchicalModelB3().to(device)\n",
    "optim=torch.optim.AdamW(params=model.parameters(),lr=1e-3)"
   ]
  },
  {
   "cell_type": "code",
   "execution_count": 54,
   "id": "24e3a23c",
   "metadata": {},
   "outputs": [],
   "source": [
    "def eval_fn(model,dl):\n",
    "    model.eval()\n",
    "    correct=0\n",
    "    total_num=0\n",
    "    correct_list=[]\n",
    "    actual_class_list=[]\n",
    "    predict_list=[]\n",
    "    with torch.no_grad():\n",
    "        for x_d,x_y1,x_y2,y,y1,y2 in dl:\n",
    "            loss,_,ys=model(x_d.to(device))\n",
    "            temp=y.to(device)==(ys)\n",
    "            actual_class_list.extend(y.tolist())\n",
    "            predict_list.extend(ys.cpu().tolist())\n",
    "            correct+=torch.sum(temp).to(device).cpu().numpy()\n",
    "            total_num+=len(x_d)\n",
    "            correct_list+=temp.to(device).tolist()\n",
    "    f1_score_my=f1_score(actual_class_list, predict_list, average='macro')\n",
    "    return correct/total_num,correct_list,f1_score_my\n"
   ]
  },
  {
   "cell_type": "code",
   "execution_count": 55,
   "id": "08400a82",
   "metadata": {},
   "outputs": [
    {
     "name": "stderr",
     "output_type": "stream",
     "text": [
      "Epochs:   1%|█▋                                                                                                                                                                 | 1/100 [00:00<00:27,  3.63it/s]"
     ]
    },
    {
     "name": "stdout",
     "output_type": "stream",
     "text": [
      "Epoch  0 --- 0.30333333333333334\n"
     ]
    },
    {
     "name": "stderr",
     "output_type": "stream",
     "text": [
      "Epochs:   2%|███▎                                                                                                                                                               | 2/100 [00:00<00:25,  3.90it/s]"
     ]
    },
    {
     "name": "stdout",
     "output_type": "stream",
     "text": [
      "Epoch  1 --- 0.30666666666666664\n"
     ]
    },
    {
     "name": "stderr",
     "output_type": "stream",
     "text": [
      "Epochs:   3%|████▉                                                                                                                                                              | 3/100 [00:00<00:24,  3.99it/s]"
     ]
    },
    {
     "name": "stdout",
     "output_type": "stream",
     "text": [
      "Epoch  2 --- 0.31333333333333335\n"
     ]
    },
    {
     "name": "stderr",
     "output_type": "stream",
     "text": [
      "Epochs:   4%|██████▌                                                                                                                                                            | 4/100 [00:00<00:23,  4.13it/s]"
     ]
    },
    {
     "name": "stdout",
     "output_type": "stream",
     "text": [
      "Epoch  3 --- 0.30333333333333334\n"
     ]
    },
    {
     "name": "stderr",
     "output_type": "stream",
     "text": [
      "Epochs:   5%|████████▏                                                                                                                                                          | 5/100 [00:01<00:22,  4.19it/s]"
     ]
    },
    {
     "name": "stdout",
     "output_type": "stream",
     "text": [
      "Epoch  4 --- 0.30666666666666664\n"
     ]
    },
    {
     "name": "stderr",
     "output_type": "stream",
     "text": [
      "Epochs:   6%|█████████▊                                                                                                                                                         | 6/100 [00:01<00:22,  4.25it/s]"
     ]
    },
    {
     "name": "stdout",
     "output_type": "stream",
     "text": [
      "Epoch  5 --- 0.30333333333333334\n"
     ]
    },
    {
     "name": "stderr",
     "output_type": "stream",
     "text": [
      "Epochs:   7%|███████████▍                                                                                                                                                       | 7/100 [00:01<00:21,  4.28it/s]"
     ]
    },
    {
     "name": "stdout",
     "output_type": "stream",
     "text": [
      "Epoch  6 --- 0.3\n"
     ]
    },
    {
     "name": "stderr",
     "output_type": "stream",
     "text": [
      "Epochs:   8%|█████████████                                                                                                                                                      | 8/100 [00:01<00:22,  4.18it/s]"
     ]
    },
    {
     "name": "stdout",
     "output_type": "stream",
     "text": [
      "Epoch  7 --- 0.2966666666666667\n"
     ]
    },
    {
     "name": "stderr",
     "output_type": "stream",
     "text": [
      "Epochs:   9%|██████████████▋                                                                                                                                                    | 9/100 [00:02<00:22,  4.13it/s]"
     ]
    },
    {
     "name": "stdout",
     "output_type": "stream",
     "text": [
      "Epoch  8 --- 0.3\n"
     ]
    },
    {
     "name": "stderr",
     "output_type": "stream",
     "text": [
      "Epochs:  10%|████████████████▏                                                                                                                                                 | 10/100 [00:02<00:22,  4.04it/s]"
     ]
    },
    {
     "name": "stdout",
     "output_type": "stream",
     "text": [
      "Epoch  9 --- 0.2833333333333333\n"
     ]
    },
    {
     "name": "stderr",
     "output_type": "stream",
     "text": [
      "Epochs:  11%|█████████████████▊                                                                                                                                                | 11/100 [00:02<00:21,  4.13it/s]"
     ]
    },
    {
     "name": "stdout",
     "output_type": "stream",
     "text": [
      "Epoch  10 --- 0.31\n"
     ]
    },
    {
     "name": "stderr",
     "output_type": "stream",
     "text": [
      "Epochs:  12%|███████████████████▍                                                                                                                                              | 12/100 [00:02<00:21,  4.12it/s]"
     ]
    },
    {
     "name": "stdout",
     "output_type": "stream",
     "text": [
      "Epoch  11 --- 0.3\n"
     ]
    },
    {
     "name": "stderr",
     "output_type": "stream",
     "text": [
      "Epochs:  13%|█████████████████████                                                                                                                                             | 13/100 [00:03<00:20,  4.18it/s]"
     ]
    },
    {
     "name": "stdout",
     "output_type": "stream",
     "text": [
      "Epoch  12 --- 0.29\n"
     ]
    },
    {
     "name": "stderr",
     "output_type": "stream",
     "text": [
      "Epochs:  14%|██████████████████████▋                                                                                                                                           | 14/100 [00:03<00:20,  4.11it/s]"
     ]
    },
    {
     "name": "stdout",
     "output_type": "stream",
     "text": [
      "Epoch  13 --- 0.29\n"
     ]
    },
    {
     "name": "stderr",
     "output_type": "stream",
     "text": [
      "Epochs:  15%|████████████████████████▎                                                                                                                                         | 15/100 [00:03<00:20,  4.09it/s]"
     ]
    },
    {
     "name": "stdout",
     "output_type": "stream",
     "text": [
      "Epoch  14 --- 0.3\n"
     ]
    },
    {
     "name": "stderr",
     "output_type": "stream",
     "text": [
      "Epochs:  16%|█████████████████████████▉                                                                                                                                        | 16/100 [00:03<00:20,  4.17it/s]"
     ]
    },
    {
     "name": "stdout",
     "output_type": "stream",
     "text": [
      "Epoch  15 --- 0.29333333333333333\n"
     ]
    },
    {
     "name": "stderr",
     "output_type": "stream",
     "text": [
      "Epochs:  17%|███████████████████████████▌                                                                                                                                      | 17/100 [00:04<00:19,  4.24it/s]"
     ]
    },
    {
     "name": "stdout",
     "output_type": "stream",
     "text": [
      "Epoch  16 --- 0.29333333333333333\n"
     ]
    },
    {
     "name": "stderr",
     "output_type": "stream",
     "text": [
      "Epochs:  18%|█████████████████████████████▏                                                                                                                                    | 18/100 [00:04<00:19,  4.29it/s]"
     ]
    },
    {
     "name": "stdout",
     "output_type": "stream",
     "text": [
      "Epoch  17 --- 0.29333333333333333\n"
     ]
    },
    {
     "name": "stderr",
     "output_type": "stream",
     "text": [
      "Epochs:  19%|██████████████████████████████▊                                                                                                                                   | 19/100 [00:04<00:18,  4.31it/s]"
     ]
    },
    {
     "name": "stdout",
     "output_type": "stream",
     "text": [
      "Epoch  18 --- 0.29\n"
     ]
    },
    {
     "name": "stderr",
     "output_type": "stream",
     "text": [
      "Epochs:  20%|████████████████████████████████▍                                                                                                                                 | 20/100 [00:04<00:18,  4.35it/s]"
     ]
    },
    {
     "name": "stdout",
     "output_type": "stream",
     "text": [
      "Epoch  19 --- 0.29333333333333333\n"
     ]
    },
    {
     "name": "stderr",
     "output_type": "stream",
     "text": [
      "Epochs:  21%|██████████████████████████████████                                                                                                                                | 21/100 [00:05<00:18,  4.37it/s]"
     ]
    },
    {
     "name": "stdout",
     "output_type": "stream",
     "text": [
      "Epoch  20 --- 0.2866666666666667\n"
     ]
    },
    {
     "name": "stderr",
     "output_type": "stream",
     "text": [
      "Epochs:  22%|███████████████████████████████████▋                                                                                                                              | 22/100 [00:05<00:17,  4.36it/s]"
     ]
    },
    {
     "name": "stdout",
     "output_type": "stream",
     "text": [
      "Epoch  21 --- 0.2966666666666667\n"
     ]
    },
    {
     "name": "stderr",
     "output_type": "stream",
     "text": [
      "Epochs:  23%|█████████████████████████████████████▎                                                                                                                            | 23/100 [00:05<00:18,  4.24it/s]"
     ]
    },
    {
     "name": "stdout",
     "output_type": "stream",
     "text": [
      "Epoch  22 --- 0.30333333333333334\n"
     ]
    },
    {
     "name": "stderr",
     "output_type": "stream",
     "text": [
      "Epochs:  24%|██████████████████████████████████████▉                                                                                                                           | 24/100 [00:05<00:17,  4.27it/s]"
     ]
    },
    {
     "name": "stdout",
     "output_type": "stream",
     "text": [
      "Epoch  23 --- 0.29\n"
     ]
    },
    {
     "name": "stderr",
     "output_type": "stream",
     "text": [
      "Epochs:  25%|████████████████████████████████████████▌                                                                                                                         | 25/100 [00:05<00:17,  4.23it/s]"
     ]
    },
    {
     "name": "stdout",
     "output_type": "stream",
     "text": [
      "Epoch  24 --- 0.2866666666666667\n"
     ]
    },
    {
     "name": "stderr",
     "output_type": "stream",
     "text": [
      "Epochs:  26%|██████████████████████████████████████████                                                                                                                        | 26/100 [00:06<00:17,  4.28it/s]"
     ]
    },
    {
     "name": "stdout",
     "output_type": "stream",
     "text": [
      "Epoch  25 --- 0.2733333333333333\n"
     ]
    },
    {
     "name": "stderr",
     "output_type": "stream",
     "text": [
      "Epochs:  27%|███████████████████████████████████████████▋                                                                                                                      | 27/100 [00:06<00:16,  4.30it/s]"
     ]
    },
    {
     "name": "stdout",
     "output_type": "stream",
     "text": [
      "Epoch  26 --- 0.2633333333333333\n"
     ]
    },
    {
     "name": "stderr",
     "output_type": "stream",
     "text": [
      "Epochs:  28%|█████████████████████████████████████████████▎                                                                                                                    | 28/100 [00:06<00:16,  4.25it/s]"
     ]
    },
    {
     "name": "stdout",
     "output_type": "stream",
     "text": [
      "Epoch  27 --- 0.29333333333333333\n"
     ]
    },
    {
     "name": "stderr",
     "output_type": "stream",
     "text": [
      "Epochs:  29%|██████████████████████████████████████████████▉                                                                                                                   | 29/100 [00:06<00:17,  4.17it/s]"
     ]
    },
    {
     "name": "stdout",
     "output_type": "stream",
     "text": [
      "Epoch  28 --- 0.28\n"
     ]
    },
    {
     "name": "stderr",
     "output_type": "stream",
     "text": [
      "Epochs:  30%|████████████████████████████████████████████████▌                                                                                                                 | 30/100 [00:07<00:16,  4.24it/s]"
     ]
    },
    {
     "name": "stdout",
     "output_type": "stream",
     "text": [
      "Epoch  29 --- 0.2866666666666667\n"
     ]
    },
    {
     "name": "stderr",
     "output_type": "stream",
     "text": [
      "Epochs:  31%|██████████████████████████████████████████████████▏                                                                                                               | 31/100 [00:07<00:16,  4.30it/s]"
     ]
    },
    {
     "name": "stdout",
     "output_type": "stream",
     "text": [
      "Epoch  30 --- 0.29333333333333333\n"
     ]
    },
    {
     "name": "stderr",
     "output_type": "stream",
     "text": [
      "Epochs:  32%|███████████████████████████████████████████████████▊                                                                                                              | 32/100 [00:07<00:15,  4.32it/s]"
     ]
    },
    {
     "name": "stdout",
     "output_type": "stream",
     "text": [
      "Epoch  31 --- 0.29333333333333333\n"
     ]
    },
    {
     "name": "stderr",
     "output_type": "stream",
     "text": [
      "Epochs:  33%|█████████████████████████████████████████████████████▍                                                                                                            | 33/100 [00:07<00:15,  4.23it/s]"
     ]
    },
    {
     "name": "stdout",
     "output_type": "stream",
     "text": [
      "Epoch  32 --- 0.29\n"
     ]
    },
    {
     "name": "stderr",
     "output_type": "stream",
     "text": [
      "Epochs:  34%|███████████████████████████████████████████████████████                                                                                                           | 34/100 [00:08<00:15,  4.23it/s]"
     ]
    },
    {
     "name": "stdout",
     "output_type": "stream",
     "text": [
      "Epoch  33 --- 0.2866666666666667\n"
     ]
    },
    {
     "name": "stderr",
     "output_type": "stream",
     "text": [
      "Epochs:  35%|████████████████████████████████████████████████████████▋                                                                                                         | 35/100 [00:08<00:15,  4.29it/s]"
     ]
    },
    {
     "name": "stdout",
     "output_type": "stream",
     "text": [
      "Epoch  34 --- 0.2833333333333333\n"
     ]
    },
    {
     "name": "stderr",
     "output_type": "stream",
     "text": [
      "Epochs:  36%|██████████████████████████████████████████████████████████▎                                                                                                       | 36/100 [00:08<00:14,  4.30it/s]"
     ]
    },
    {
     "name": "stdout",
     "output_type": "stream",
     "text": [
      "Epoch  35 --- 0.29\n"
     ]
    },
    {
     "name": "stderr",
     "output_type": "stream",
     "text": [
      "Epochs:  37%|███████████████████████████████████████████████████████████▉                                                                                                      | 37/100 [00:08<00:14,  4.34it/s]"
     ]
    },
    {
     "name": "stdout",
     "output_type": "stream",
     "text": [
      "Epoch  36 --- 0.2866666666666667\n"
     ]
    },
    {
     "name": "stderr",
     "output_type": "stream",
     "text": [
      "Epochs:  38%|█████████████████████████████████████████████████████████████▌                                                                                                    | 38/100 [00:09<00:14,  4.23it/s]"
     ]
    },
    {
     "name": "stdout",
     "output_type": "stream",
     "text": [
      "Epoch  37 --- 0.29\n"
     ]
    },
    {
     "name": "stderr",
     "output_type": "stream",
     "text": [
      "Epochs:  39%|███████████████████████████████████████████████████████████████▏                                                                                                  | 39/100 [00:09<00:14,  4.24it/s]"
     ]
    },
    {
     "name": "stdout",
     "output_type": "stream",
     "text": [
      "Epoch  38 --- 0.2866666666666667\n"
     ]
    },
    {
     "name": "stderr",
     "output_type": "stream",
     "text": [
      "Epochs:  40%|████████████████████████████████████████████████████████████████▊                                                                                                 | 40/100 [00:09<00:14,  4.29it/s]"
     ]
    },
    {
     "name": "stdout",
     "output_type": "stream",
     "text": [
      "Epoch  39 --- 0.2866666666666667\n"
     ]
    },
    {
     "name": "stderr",
     "output_type": "stream",
     "text": [
      "Epochs:  41%|██████████████████████████████████████████████████████████████████▍                                                                                               | 41/100 [00:09<00:13,  4.30it/s]"
     ]
    },
    {
     "name": "stdout",
     "output_type": "stream",
     "text": [
      "Epoch  40 --- 0.2866666666666667\n"
     ]
    },
    {
     "name": "stderr",
     "output_type": "stream",
     "text": [
      "Epochs:  42%|████████████████████████████████████████████████████████████████████                                                                                              | 42/100 [00:09<00:13,  4.23it/s]"
     ]
    },
    {
     "name": "stdout",
     "output_type": "stream",
     "text": [
      "Epoch  41 --- 0.29\n"
     ]
    },
    {
     "name": "stderr",
     "output_type": "stream",
     "text": [
      "Epochs:  43%|█████████████████████████████████████████████████████████████████████▋                                                                                            | 43/100 [00:10<00:13,  4.23it/s]"
     ]
    },
    {
     "name": "stdout",
     "output_type": "stream",
     "text": [
      "Epoch  42 --- 0.2866666666666667\n"
     ]
    },
    {
     "name": "stderr",
     "output_type": "stream",
     "text": [
      "Epochs:  44%|███████████████████████████████████████████████████████████████████████▎                                                                                          | 44/100 [00:10<00:13,  4.30it/s]"
     ]
    },
    {
     "name": "stdout",
     "output_type": "stream",
     "text": [
      "Epoch  43 --- 0.2866666666666667\n"
     ]
    },
    {
     "name": "stderr",
     "output_type": "stream",
     "text": [
      "Epochs:  45%|████████████████████████████████████████████████████████████████████████▉                                                                                         | 45/100 [00:10<00:12,  4.33it/s]"
     ]
    },
    {
     "name": "stdout",
     "output_type": "stream",
     "text": [
      "Epoch  44 --- 0.2866666666666667\n"
     ]
    },
    {
     "name": "stderr",
     "output_type": "stream",
     "text": [
      "Epochs:  46%|██████████████████████████████████████████████████████████████████████████▌                                                                                       | 46/100 [00:10<00:12,  4.39it/s]"
     ]
    },
    {
     "name": "stdout",
     "output_type": "stream",
     "text": [
      "Epoch  45 --- 0.29\n"
     ]
    },
    {
     "name": "stderr",
     "output_type": "stream",
     "text": [
      "Epochs:  47%|████████████████████████████████████████████████████████████████████████████▏                                                                                     | 47/100 [00:11<00:12,  4.38it/s]"
     ]
    },
    {
     "name": "stdout",
     "output_type": "stream",
     "text": [
      "Epoch  46 --- 0.2866666666666667\n"
     ]
    },
    {
     "name": "stderr",
     "output_type": "stream",
     "text": [
      "Epochs:  48%|█████████████████████████████████████████████████████████████████████████████▊                                                                                    | 48/100 [00:11<00:11,  4.42it/s]"
     ]
    },
    {
     "name": "stdout",
     "output_type": "stream",
     "text": [
      "Epoch  47 --- 0.29\n"
     ]
    },
    {
     "name": "stderr",
     "output_type": "stream",
     "text": [
      "Epochs:  49%|███████████████████████████████████████████████████████████████████████████████▍                                                                                  | 49/100 [00:11<00:11,  4.43it/s]"
     ]
    },
    {
     "name": "stdout",
     "output_type": "stream",
     "text": [
      "Epoch  48 --- 0.29\n"
     ]
    },
    {
     "name": "stderr",
     "output_type": "stream",
     "text": [
      "Epochs:  50%|█████████████████████████████████████████████████████████████████████████████████                                                                                 | 50/100 [00:11<00:11,  4.46it/s]"
     ]
    },
    {
     "name": "stdout",
     "output_type": "stream",
     "text": [
      "Epoch  49 --- 0.2866666666666667\n"
     ]
    },
    {
     "name": "stderr",
     "output_type": "stream",
     "text": [
      "Epochs:  51%|██████████████████████████████████████████████████████████████████████████████████▌                                                                               | 51/100 [00:11<00:11,  4.35it/s]"
     ]
    },
    {
     "name": "stdout",
     "output_type": "stream",
     "text": [
      "Epoch  50 --- 0.2866666666666667\n"
     ]
    },
    {
     "name": "stderr",
     "output_type": "stream",
     "text": [
      "Epochs:  52%|████████████████████████████████████████████████████████████████████████████████████▏                                                                             | 52/100 [00:12<00:11,  4.19it/s]"
     ]
    },
    {
     "name": "stdout",
     "output_type": "stream",
     "text": [
      "Epoch  51 --- 0.29\n"
     ]
    },
    {
     "name": "stderr",
     "output_type": "stream",
     "text": [
      "Epochs:  53%|█████████████████████████████████████████████████████████████████████████████████████▊                                                                            | 53/100 [00:12<00:11,  4.25it/s]"
     ]
    },
    {
     "name": "stdout",
     "output_type": "stream",
     "text": [
      "Epoch  52 --- 0.29\n"
     ]
    },
    {
     "name": "stderr",
     "output_type": "stream",
     "text": [
      "Epochs:  54%|███████████████████████████████████████████████████████████████████████████████████████▍                                                                          | 54/100 [00:12<00:10,  4.21it/s]"
     ]
    },
    {
     "name": "stdout",
     "output_type": "stream",
     "text": [
      "Epoch  53 --- 0.29\n"
     ]
    },
    {
     "name": "stderr",
     "output_type": "stream",
     "text": [
      "Epochs:  55%|█████████████████████████████████████████████████████████████████████████████████████████                                                                         | 55/100 [00:12<00:10,  4.14it/s]"
     ]
    },
    {
     "name": "stdout",
     "output_type": "stream",
     "text": [
      "Epoch  54 --- 0.29\n"
     ]
    },
    {
     "name": "stderr",
     "output_type": "stream",
     "text": [
      "Epochs:  56%|██████████████████████████████████████████████████████████████████████████████████████████▋                                                                       | 56/100 [00:13<00:10,  4.22it/s]"
     ]
    },
    {
     "name": "stdout",
     "output_type": "stream",
     "text": [
      "Epoch  55 --- 0.29\n"
     ]
    },
    {
     "name": "stderr",
     "output_type": "stream",
     "text": [
      "Epochs:  57%|████████████████████████████████████████████████████████████████████████████████████████████▎                                                                     | 57/100 [00:13<00:10,  4.27it/s]"
     ]
    },
    {
     "name": "stdout",
     "output_type": "stream",
     "text": [
      "Epoch  56 --- 0.29\n"
     ]
    },
    {
     "name": "stderr",
     "output_type": "stream",
     "text": [
      "Epochs:  58%|█████████████████████████████████████████████████████████████████████████████████████████████▉                                                                    | 58/100 [00:13<00:09,  4.26it/s]"
     ]
    },
    {
     "name": "stdout",
     "output_type": "stream",
     "text": [
      "Epoch  57 --- 0.29\n"
     ]
    },
    {
     "name": "stderr",
     "output_type": "stream",
     "text": [
      "Epochs:  59%|███████████████████████████████████████████████████████████████████████████████████████████████▌                                                                  | 59/100 [00:13<00:09,  4.31it/s]"
     ]
    },
    {
     "name": "stdout",
     "output_type": "stream",
     "text": [
      "Epoch  58 --- 0.29\n"
     ]
    },
    {
     "name": "stderr",
     "output_type": "stream",
     "text": [
      "Epochs:  60%|█████████████████████████████████████████████████████████████████████████████████████████████████▏                                                                | 60/100 [00:14<00:09,  4.33it/s]"
     ]
    },
    {
     "name": "stdout",
     "output_type": "stream",
     "text": [
      "Epoch  59 --- 0.29\n"
     ]
    },
    {
     "name": "stderr",
     "output_type": "stream",
     "text": [
      "Epochs:  61%|██████████████████████████████████████████████████████████████████████████████████████████████████▊                                                               | 61/100 [00:14<00:09,  4.29it/s]"
     ]
    },
    {
     "name": "stdout",
     "output_type": "stream",
     "text": [
      "Epoch  60 --- 0.29\n"
     ]
    },
    {
     "name": "stderr",
     "output_type": "stream",
     "text": [
      "Epochs:  62%|████████████████████████████████████████████████████████████████████████████████████████████████████▍                                                             | 62/100 [00:14<00:08,  4.31it/s]"
     ]
    },
    {
     "name": "stdout",
     "output_type": "stream",
     "text": [
      "Epoch  61 --- 0.29\n"
     ]
    },
    {
     "name": "stderr",
     "output_type": "stream",
     "text": [
      "Epochs:  63%|██████████████████████████████████████████████████████████████████████████████████████████████████████                                                            | 63/100 [00:14<00:08,  4.34it/s]"
     ]
    },
    {
     "name": "stdout",
     "output_type": "stream",
     "text": [
      "Epoch  62 --- 0.29\n"
     ]
    },
    {
     "name": "stderr",
     "output_type": "stream",
     "text": [
      "Epochs:  64%|███████████████████████████████████████████████████████████████████████████████████████████████████████▋                                                          | 64/100 [00:15<00:08,  4.29it/s]"
     ]
    },
    {
     "name": "stdout",
     "output_type": "stream",
     "text": [
      "Epoch  63 --- 0.2866666666666667\n"
     ]
    },
    {
     "name": "stderr",
     "output_type": "stream",
     "text": [
      "Epochs:  65%|█████████████████████████████████████████████████████████████████████████████████████████████████████████▎                                                        | 65/100 [00:15<00:08,  4.31it/s]"
     ]
    },
    {
     "name": "stdout",
     "output_type": "stream",
     "text": [
      "Epoch  64 --- 0.2866666666666667\n"
     ]
    },
    {
     "name": "stderr",
     "output_type": "stream",
     "text": [
      "Epochs:  66%|██████████████████████████████████████████████████████████████████████████████████████████████████████████▉                                                       | 66/100 [00:15<00:07,  4.35it/s]"
     ]
    },
    {
     "name": "stdout",
     "output_type": "stream",
     "text": [
      "Epoch  65 --- 0.2866666666666667\n"
     ]
    },
    {
     "name": "stderr",
     "output_type": "stream",
     "text": [
      "Epochs:  67%|████████████████████████████████████████████████████████████████████████████████████████████████████████████▌                                                     | 67/100 [00:15<00:07,  4.40it/s]"
     ]
    },
    {
     "name": "stdout",
     "output_type": "stream",
     "text": [
      "Epoch  66 --- 0.2866666666666667\n"
     ]
    },
    {
     "name": "stderr",
     "output_type": "stream",
     "text": [
      "Epochs:  68%|██████████████████████████████████████████████████████████████████████████████████████████████████████████████▏                                                   | 68/100 [00:15<00:07,  4.30it/s]"
     ]
    },
    {
     "name": "stdout",
     "output_type": "stream",
     "text": [
      "Epoch  67 --- 0.2866666666666667\n"
     ]
    },
    {
     "name": "stderr",
     "output_type": "stream",
     "text": [
      "Epochs:  69%|███████████████████████████████████████████████████████████████████████████████████████████████████████████████▊                                                  | 69/100 [00:16<00:07,  4.30it/s]"
     ]
    },
    {
     "name": "stdout",
     "output_type": "stream",
     "text": [
      "Epoch  68 --- 0.2866666666666667\n"
     ]
    },
    {
     "name": "stderr",
     "output_type": "stream",
     "text": [
      "Epochs:  70%|█████████████████████████████████████████████████████████████████████████████████████████████████████████████████▍                                                | 70/100 [00:16<00:06,  4.32it/s]"
     ]
    },
    {
     "name": "stdout",
     "output_type": "stream",
     "text": [
      "Epoch  69 --- 0.29333333333333333\n"
     ]
    },
    {
     "name": "stderr",
     "output_type": "stream",
     "text": [
      "Epochs:  71%|███████████████████████████████████████████████████████████████████████████████████████████████████████████████████                                               | 71/100 [00:16<00:06,  4.32it/s]"
     ]
    },
    {
     "name": "stdout",
     "output_type": "stream",
     "text": [
      "Epoch  70 --- 0.29333333333333333\n"
     ]
    },
    {
     "name": "stderr",
     "output_type": "stream",
     "text": [
      "Epochs:  72%|████████████████████████████████████████████████████████████████████████████████████████████████████████████████████▋                                             | 72/100 [00:16<00:06,  4.34it/s]"
     ]
    },
    {
     "name": "stdout",
     "output_type": "stream",
     "text": [
      "Epoch  71 --- 0.29333333333333333\n"
     ]
    },
    {
     "name": "stderr",
     "output_type": "stream",
     "text": [
      "Epochs:  73%|██████████████████████████████████████████████████████████████████████████████████████████████████████████████████████▎                                           | 73/100 [00:17<00:06,  4.28it/s]"
     ]
    },
    {
     "name": "stdout",
     "output_type": "stream",
     "text": [
      "Epoch  72 --- 0.29\n"
     ]
    },
    {
     "name": "stderr",
     "output_type": "stream",
     "text": [
      "Epochs:  74%|███████████████████████████████████████████████████████████████████████████████████████████████████████████████████████▉                                          | 74/100 [00:17<00:06,  4.19it/s]"
     ]
    },
    {
     "name": "stdout",
     "output_type": "stream",
     "text": [
      "Epoch  73 --- 0.29\n"
     ]
    },
    {
     "name": "stderr",
     "output_type": "stream",
     "text": [
      "Epochs:  75%|█████████████████████████████████████████████████████████████████████████████████████████████████████████████████████████▌                                        | 75/100 [00:17<00:05,  4.24it/s]"
     ]
    },
    {
     "name": "stdout",
     "output_type": "stream",
     "text": [
      "Epoch  74 --- 0.29\n"
     ]
    },
    {
     "name": "stderr",
     "output_type": "stream",
     "text": [
      "Epochs:  76%|███████████████████████████████████████████████████████████████████████████████████████████████████████████████████████████                                       | 76/100 [00:17<00:05,  4.28it/s]"
     ]
    },
    {
     "name": "stdout",
     "output_type": "stream",
     "text": [
      "Epoch  75 --- 0.2866666666666667\n"
     ]
    },
    {
     "name": "stderr",
     "output_type": "stream",
     "text": [
      "Epochs:  77%|████████████████████████████████████████████████████████████████████████████████████████████████████████████████████████████▋                                     | 77/100 [00:18<00:05,  4.25it/s]"
     ]
    },
    {
     "name": "stdout",
     "output_type": "stream",
     "text": [
      "Epoch  76 --- 0.2866666666666667\n"
     ]
    },
    {
     "name": "stderr",
     "output_type": "stream",
     "text": [
      "Epochs:  78%|██████████████████████████████████████████████████████████████████████████████████████████████████████████████████████████████▎                                   | 78/100 [00:18<00:05,  4.19it/s]"
     ]
    },
    {
     "name": "stdout",
     "output_type": "stream",
     "text": [
      "Epoch  77 --- 0.2866666666666667\n"
     ]
    },
    {
     "name": "stderr",
     "output_type": "stream",
     "text": [
      "Epochs:  79%|███████████████████████████████████████████████████████████████████████████████████████████████████████████████████████████████▉                                  | 79/100 [00:18<00:04,  4.25it/s]"
     ]
    },
    {
     "name": "stdout",
     "output_type": "stream",
     "text": [
      "Epoch  78 --- 0.2866666666666667\n"
     ]
    },
    {
     "name": "stderr",
     "output_type": "stream",
     "text": [
      "Epochs:  80%|█████████████████████████████████████████████████████████████████████████████████████████████████████████████████████████████████▌                                | 80/100 [00:18<00:04,  4.20it/s]"
     ]
    },
    {
     "name": "stdout",
     "output_type": "stream",
     "text": [
      "Epoch  79 --- 0.29\n"
     ]
    },
    {
     "name": "stderr",
     "output_type": "stream",
     "text": [
      "Epochs:  81%|███████████████████████████████████████████████████████████████████████████████████████████████████████████████████████████████████▏                              | 81/100 [00:19<00:04,  4.25it/s]"
     ]
    },
    {
     "name": "stdout",
     "output_type": "stream",
     "text": [
      "Epoch  80 --- 0.2866666666666667\n"
     ]
    },
    {
     "name": "stderr",
     "output_type": "stream",
     "text": [
      "Epochs:  82%|████████████████████████████████████████████████████████████████████████████████████████████████████████████████████████████████████▊                             | 82/100 [00:19<00:04,  4.26it/s]"
     ]
    },
    {
     "name": "stdout",
     "output_type": "stream",
     "text": [
      "Epoch  81 --- 0.29\n"
     ]
    },
    {
     "name": "stderr",
     "output_type": "stream",
     "text": [
      "Epochs:  83%|██████████████████████████████████████████████████████████████████████████████████████████████████████████████████████████████████████▍                           | 83/100 [00:19<00:03,  4.28it/s]"
     ]
    },
    {
     "name": "stdout",
     "output_type": "stream",
     "text": [
      "Epoch  82 --- 0.2833333333333333\n"
     ]
    },
    {
     "name": "stderr",
     "output_type": "stream",
     "text": [
      "Epochs:  84%|████████████████████████████████████████████████████████████████████████████████████████████████████████████████████████████████████████                          | 84/100 [00:19<00:03,  4.23it/s]"
     ]
    },
    {
     "name": "stdout",
     "output_type": "stream",
     "text": [
      "Epoch  83 --- 0.2866666666666667\n"
     ]
    },
    {
     "name": "stderr",
     "output_type": "stream",
     "text": [
      "Epochs:  85%|█████████████████████████████████████████████████████████████████████████████████████████████████████████████████████████████████████████▋                        | 85/100 [00:19<00:03,  4.17it/s]"
     ]
    },
    {
     "name": "stdout",
     "output_type": "stream",
     "text": [
      "Epoch  84 --- 0.2866666666666667\n"
     ]
    },
    {
     "name": "stderr",
     "output_type": "stream",
     "text": [
      "Epochs:  86%|███████████████████████████████████████████████████████████████████████████████████████████████████████████████████████████████████████████▎                      | 86/100 [00:20<00:03,  4.13it/s]"
     ]
    },
    {
     "name": "stdout",
     "output_type": "stream",
     "text": [
      "Epoch  85 --- 0.29\n"
     ]
    },
    {
     "name": "stderr",
     "output_type": "stream",
     "text": [
      "Epochs:  87%|████████████████████████████████████████████████████████████████████████████████████████████████████████████████████████████████████████████▉                     | 87/100 [00:20<00:03,  4.14it/s]"
     ]
    },
    {
     "name": "stdout",
     "output_type": "stream",
     "text": [
      "Epoch  86 --- 0.2866666666666667\n"
     ]
    },
    {
     "name": "stderr",
     "output_type": "stream",
     "text": [
      "Epochs:  88%|██████████████████████████████████████████████████████████████████████████████████████████████████████████████████████████████████████████████▌                   | 88/100 [00:20<00:02,  4.22it/s]"
     ]
    },
    {
     "name": "stdout",
     "output_type": "stream",
     "text": [
      "Epoch  87 --- 0.29\n"
     ]
    },
    {
     "name": "stderr",
     "output_type": "stream",
     "text": [
      "Epochs:  89%|████████████████████████████████████████████████████████████████████████████████████████████████████████████████████████████████████████████████▏                 | 89/100 [00:20<00:02,  4.22it/s]"
     ]
    },
    {
     "name": "stdout",
     "output_type": "stream",
     "text": [
      "Epoch  88 --- 0.29\n"
     ]
    },
    {
     "name": "stderr",
     "output_type": "stream",
     "text": [
      "Epochs:  90%|█████████████████████████████████████████████████████████████████████████████████████████████████████████████████████████████████████████████████▊                | 90/100 [00:21<00:02,  4.28it/s]"
     ]
    },
    {
     "name": "stdout",
     "output_type": "stream",
     "text": [
      "Epoch  89 --- 0.29\n"
     ]
    },
    {
     "name": "stderr",
     "output_type": "stream",
     "text": [
      "Epochs:  91%|███████████████████████████████████████████████████████████████████████████████████████████████████████████████████████████████████████████████████▍              | 91/100 [00:21<00:02,  4.19it/s]"
     ]
    },
    {
     "name": "stdout",
     "output_type": "stream",
     "text": [
      "Epoch  90 --- 0.29\n"
     ]
    },
    {
     "name": "stderr",
     "output_type": "stream",
     "text": [
      "Epochs:  92%|█████████████████████████████████████████████████████████████████████████████████████████████████████████████████████████████████████████████████████             | 92/100 [00:21<00:01,  4.17it/s]"
     ]
    },
    {
     "name": "stdout",
     "output_type": "stream",
     "text": [
      "Epoch  91 --- 0.29\n"
     ]
    },
    {
     "name": "stderr",
     "output_type": "stream",
     "text": [
      "Epochs:  93%|██████████████████████████████████████████████████████████████████████████████████████████████████████████████████████████████████████████████████████▋           | 93/100 [00:21<00:01,  4.23it/s]"
     ]
    },
    {
     "name": "stdout",
     "output_type": "stream",
     "text": [
      "Epoch  92 --- 0.29\n"
     ]
    },
    {
     "name": "stderr",
     "output_type": "stream",
     "text": [
      "Epochs:  94%|████████████████████████████████████████████████████████████████████████████████████████████████████████████████████████████████████████████████████████▎         | 94/100 [00:22<00:01,  4.35it/s]"
     ]
    },
    {
     "name": "stdout",
     "output_type": "stream",
     "text": [
      "Epoch  93 --- 0.29\n"
     ]
    },
    {
     "name": "stderr",
     "output_type": "stream",
     "text": [
      "Epochs:  95%|█████████████████████████████████████████████████████████████████████████████████████████████████████████████████████████████████████████████████████████▉        | 95/100 [00:22<00:01,  4.38it/s]"
     ]
    },
    {
     "name": "stdout",
     "output_type": "stream",
     "text": [
      "Epoch  94 --- 0.29\n"
     ]
    },
    {
     "name": "stderr",
     "output_type": "stream",
     "text": [
      "Epochs:  96%|███████████████████████████████████████████████████████████████████████████████████████████████████████████████████████████████████████████████████████████▌      | 96/100 [00:22<00:00,  4.40it/s]"
     ]
    },
    {
     "name": "stdout",
     "output_type": "stream",
     "text": [
      "Epoch  95 --- 0.2866666666666667\n"
     ]
    },
    {
     "name": "stderr",
     "output_type": "stream",
     "text": [
      "Epochs:  97%|█████████████████████████████████████████████████████████████████████████████████████████████████████████████████████████████████████████████████████████████▏    | 97/100 [00:22<00:00,  4.30it/s]"
     ]
    },
    {
     "name": "stdout",
     "output_type": "stream",
     "text": [
      "Epoch  96 --- 0.29\n"
     ]
    },
    {
     "name": "stderr",
     "output_type": "stream",
     "text": [
      "Epochs:  98%|██████████████████████████████████████████████████████████████████████████████████████████████████████████████████████████████████████████████████████████████▊   | 98/100 [00:23<00:00,  4.33it/s]"
     ]
    },
    {
     "name": "stdout",
     "output_type": "stream",
     "text": [
      "Epoch  97 --- 0.2866666666666667\n"
     ]
    },
    {
     "name": "stderr",
     "output_type": "stream",
     "text": [
      "Epochs:  99%|████████████████████████████████████████████████████████████████████████████████████████████████████████████████████████████████████████████████████████████████▍ | 99/100 [00:23<00:00,  4.36it/s]"
     ]
    },
    {
     "name": "stdout",
     "output_type": "stream",
     "text": [
      "Epoch  98 --- 0.29\n"
     ]
    },
    {
     "name": "stderr",
     "output_type": "stream",
     "text": [
      "Epochs: 100%|█████████████████████████████████████████████████████████████████████████████████████████████████████████████████████████████████████████████████████████████████| 100/100 [00:23<00:00,  4.26it/s]"
     ]
    },
    {
     "name": "stdout",
     "output_type": "stream",
     "text": [
      "Epoch  99 --- 0.29\n"
     ]
    },
    {
     "name": "stderr",
     "output_type": "stream",
     "text": [
      "\n"
     ]
    },
    {
     "ename": "ValueError",
     "evalue": "x and y must have same first dimension, but have shapes (100,) and (0,)",
     "output_type": "error",
     "traceback": [
      "\u001b[0;31m---------------------------------------------------------------------------\u001b[0m",
      "\u001b[0;31mValueError\u001b[0m                                Traceback (most recent call last)",
      "Cell \u001b[0;32mIn[55], line 18\u001b[0m\n\u001b[1;32m     16\u001b[0m     \u001b[38;5;28mprint\u001b[39m(\u001b[38;5;124m\"\u001b[39m\u001b[38;5;124mEpoch \u001b[39m\u001b[38;5;124m\"\u001b[39m,epoch,\u001b[38;5;124m\"\u001b[39m\u001b[38;5;124m---\u001b[39m\u001b[38;5;124m\"\u001b[39m,val_accuracy)        \n\u001b[1;32m     17\u001b[0m epochs \u001b[38;5;241m=\u001b[39m [\u001b[38;5;241m*\u001b[39m\u001b[38;5;28mrange\u001b[39m(num_epochs)]\n\u001b[0;32m---> 18\u001b[0m \u001b[43mplt\u001b[49m\u001b[38;5;241;43m.\u001b[39;49m\u001b[43mplot\u001b[49m\u001b[43m(\u001b[49m\u001b[43mepochs\u001b[49m\u001b[43m,\u001b[49m\u001b[43m \u001b[49m\u001b[43maccuracies\u001b[49m\u001b[43m,\u001b[49m\u001b[43m \u001b[49m\u001b[43mlabel\u001b[49m\u001b[38;5;241;43m=\u001b[39;49m\u001b[38;5;124;43m\"\u001b[39;49m\u001b[38;5;124;43mValidation Accuracy\u001b[39;49m\u001b[38;5;124;43m\"\u001b[39;49m\u001b[43m)\u001b[49m\n",
      "File \u001b[0;32m~/miniconda3/envs/myenv_py3.8_another/lib/python3.8/site-packages/matplotlib/pyplot.py:2761\u001b[0m, in \u001b[0;36mplot\u001b[0;34m(scalex, scaley, data, *args, **kwargs)\u001b[0m\n\u001b[1;32m   2759\u001b[0m \u001b[38;5;129m@docstring\u001b[39m\u001b[38;5;241m.\u001b[39mcopy(Axes\u001b[38;5;241m.\u001b[39mplot)\n\u001b[1;32m   2760\u001b[0m \u001b[38;5;28;01mdef\u001b[39;00m \u001b[38;5;21mplot\u001b[39m(\u001b[38;5;241m*\u001b[39margs, scalex\u001b[38;5;241m=\u001b[39m\u001b[38;5;28;01mTrue\u001b[39;00m, scaley\u001b[38;5;241m=\u001b[39m\u001b[38;5;28;01mTrue\u001b[39;00m, data\u001b[38;5;241m=\u001b[39m\u001b[38;5;28;01mNone\u001b[39;00m, \u001b[38;5;241m*\u001b[39m\u001b[38;5;241m*\u001b[39mkwargs):\n\u001b[0;32m-> 2761\u001b[0m     \u001b[38;5;28;01mreturn\u001b[39;00m \u001b[43mgca\u001b[49m\u001b[43m(\u001b[49m\u001b[43m)\u001b[49m\u001b[38;5;241;43m.\u001b[39;49m\u001b[43mplot\u001b[49m\u001b[43m(\u001b[49m\n\u001b[1;32m   2762\u001b[0m \u001b[43m        \u001b[49m\u001b[38;5;241;43m*\u001b[39;49m\u001b[43margs\u001b[49m\u001b[43m,\u001b[49m\u001b[43m \u001b[49m\u001b[43mscalex\u001b[49m\u001b[38;5;241;43m=\u001b[39;49m\u001b[43mscalex\u001b[49m\u001b[43m,\u001b[49m\u001b[43m \u001b[49m\u001b[43mscaley\u001b[49m\u001b[38;5;241;43m=\u001b[39;49m\u001b[43mscaley\u001b[49m\u001b[43m,\u001b[49m\u001b[43m \u001b[49m\u001b[38;5;241;43m*\u001b[39;49m\u001b[38;5;241;43m*\u001b[39;49m\u001b[43m(\u001b[49m\u001b[43m{\u001b[49m\u001b[38;5;124;43m\"\u001b[39;49m\u001b[38;5;124;43mdata\u001b[39;49m\u001b[38;5;124;43m\"\u001b[39;49m\u001b[43m:\u001b[49m\u001b[43m \u001b[49m\u001b[43mdata\u001b[49m\u001b[43m}\u001b[49m\u001b[43m \u001b[49m\u001b[38;5;28;43;01mif\u001b[39;49;00m\u001b[43m \u001b[49m\u001b[43mdata\u001b[49m\n\u001b[1;32m   2763\u001b[0m \u001b[43m        \u001b[49m\u001b[38;5;129;43;01mis\u001b[39;49;00m\u001b[43m \u001b[49m\u001b[38;5;129;43;01mnot\u001b[39;49;00m\u001b[43m \u001b[49m\u001b[38;5;28;43;01mNone\u001b[39;49;00m\u001b[43m \u001b[49m\u001b[38;5;28;43;01melse\u001b[39;49;00m\u001b[43m \u001b[49m\u001b[43m{\u001b[49m\u001b[43m}\u001b[49m\u001b[43m)\u001b[49m\u001b[43m,\u001b[49m\u001b[43m \u001b[49m\u001b[38;5;241;43m*\u001b[39;49m\u001b[38;5;241;43m*\u001b[39;49m\u001b[43mkwargs\u001b[49m\u001b[43m)\u001b[49m\n",
      "File \u001b[0;32m~/miniconda3/envs/myenv_py3.8_another/lib/python3.8/site-packages/matplotlib/axes/_axes.py:1647\u001b[0m, in \u001b[0;36mAxes.plot\u001b[0;34m(self, scalex, scaley, data, *args, **kwargs)\u001b[0m\n\u001b[1;32m   1416\u001b[0m \u001b[38;5;250m\u001b[39m\u001b[38;5;124;03m\"\"\"\u001b[39;00m\n\u001b[1;32m   1417\u001b[0m \u001b[38;5;124;03mPlot y versus x as lines and/or markers.\u001b[39;00m\n\u001b[1;32m   1418\u001b[0m \n\u001b[0;32m   (...)\u001b[0m\n\u001b[1;32m   1644\u001b[0m \u001b[38;5;124;03m(``'green'``) or hex strings (``'#008000'``).\u001b[39;00m\n\u001b[1;32m   1645\u001b[0m \u001b[38;5;124;03m\"\"\"\u001b[39;00m\n\u001b[1;32m   1646\u001b[0m kwargs \u001b[38;5;241m=\u001b[39m cbook\u001b[38;5;241m.\u001b[39mnormalize_kwargs(kwargs, mlines\u001b[38;5;241m.\u001b[39mLine2D)\n\u001b[0;32m-> 1647\u001b[0m lines \u001b[38;5;241m=\u001b[39m [\u001b[38;5;241m*\u001b[39m\u001b[38;5;28mself\u001b[39m\u001b[38;5;241m.\u001b[39m_get_lines(\u001b[38;5;241m*\u001b[39margs, data\u001b[38;5;241m=\u001b[39mdata, \u001b[38;5;241m*\u001b[39m\u001b[38;5;241m*\u001b[39mkwargs)]\n\u001b[1;32m   1648\u001b[0m \u001b[38;5;28;01mfor\u001b[39;00m line \u001b[38;5;129;01min\u001b[39;00m lines:\n\u001b[1;32m   1649\u001b[0m     \u001b[38;5;28mself\u001b[39m\u001b[38;5;241m.\u001b[39madd_line(line)\n",
      "File \u001b[0;32m~/miniconda3/envs/myenv_py3.8_another/lib/python3.8/site-packages/matplotlib/axes/_base.py:216\u001b[0m, in \u001b[0;36m_process_plot_var_args.__call__\u001b[0;34m(self, *args, **kwargs)\u001b[0m\n\u001b[1;32m    214\u001b[0m     this \u001b[38;5;241m+\u001b[39m\u001b[38;5;241m=\u001b[39m args[\u001b[38;5;241m0\u001b[39m],\n\u001b[1;32m    215\u001b[0m     args \u001b[38;5;241m=\u001b[39m args[\u001b[38;5;241m1\u001b[39m:]\n\u001b[0;32m--> 216\u001b[0m \u001b[38;5;28;01myield from\u001b[39;00m \u001b[38;5;28;43mself\u001b[39;49m\u001b[38;5;241;43m.\u001b[39;49m\u001b[43m_plot_args\u001b[49m\u001b[43m(\u001b[49m\u001b[43mthis\u001b[49m\u001b[43m,\u001b[49m\u001b[43m \u001b[49m\u001b[43mkwargs\u001b[49m\u001b[43m)\u001b[49m\n",
      "File \u001b[0;32m~/miniconda3/envs/myenv_py3.8_another/lib/python3.8/site-packages/matplotlib/axes/_base.py:342\u001b[0m, in \u001b[0;36m_process_plot_var_args._plot_args\u001b[0;34m(self, tup, kwargs)\u001b[0m\n\u001b[1;32m    339\u001b[0m     \u001b[38;5;28mself\u001b[39m\u001b[38;5;241m.\u001b[39maxes\u001b[38;5;241m.\u001b[39myaxis\u001b[38;5;241m.\u001b[39mupdate_units(y)\n\u001b[1;32m    341\u001b[0m \u001b[38;5;28;01mif\u001b[39;00m x\u001b[38;5;241m.\u001b[39mshape[\u001b[38;5;241m0\u001b[39m] \u001b[38;5;241m!=\u001b[39m y\u001b[38;5;241m.\u001b[39mshape[\u001b[38;5;241m0\u001b[39m]:\n\u001b[0;32m--> 342\u001b[0m     \u001b[38;5;28;01mraise\u001b[39;00m \u001b[38;5;167;01mValueError\u001b[39;00m(\u001b[38;5;124mf\u001b[39m\u001b[38;5;124m\"\u001b[39m\u001b[38;5;124mx and y must have same first dimension, but \u001b[39m\u001b[38;5;124m\"\u001b[39m\n\u001b[1;32m    343\u001b[0m                      \u001b[38;5;124mf\u001b[39m\u001b[38;5;124m\"\u001b[39m\u001b[38;5;124mhave shapes \u001b[39m\u001b[38;5;132;01m{\u001b[39;00mx\u001b[38;5;241m.\u001b[39mshape\u001b[38;5;132;01m}\u001b[39;00m\u001b[38;5;124m and \u001b[39m\u001b[38;5;132;01m{\u001b[39;00my\u001b[38;5;241m.\u001b[39mshape\u001b[38;5;132;01m}\u001b[39;00m\u001b[38;5;124m\"\u001b[39m)\n\u001b[1;32m    344\u001b[0m \u001b[38;5;28;01mif\u001b[39;00m x\u001b[38;5;241m.\u001b[39mndim \u001b[38;5;241m>\u001b[39m \u001b[38;5;241m2\u001b[39m \u001b[38;5;129;01mor\u001b[39;00m y\u001b[38;5;241m.\u001b[39mndim \u001b[38;5;241m>\u001b[39m \u001b[38;5;241m2\u001b[39m:\n\u001b[1;32m    345\u001b[0m     \u001b[38;5;28;01mraise\u001b[39;00m \u001b[38;5;167;01mValueError\u001b[39;00m(\u001b[38;5;124mf\u001b[39m\u001b[38;5;124m\"\u001b[39m\u001b[38;5;124mx and y can be no greater than 2-D, but have \u001b[39m\u001b[38;5;124m\"\u001b[39m\n\u001b[1;32m    346\u001b[0m                      \u001b[38;5;124mf\u001b[39m\u001b[38;5;124m\"\u001b[39m\u001b[38;5;124mshapes \u001b[39m\u001b[38;5;132;01m{\u001b[39;00mx\u001b[38;5;241m.\u001b[39mshape\u001b[38;5;132;01m}\u001b[39;00m\u001b[38;5;124m and \u001b[39m\u001b[38;5;132;01m{\u001b[39;00my\u001b[38;5;241m.\u001b[39mshape\u001b[38;5;132;01m}\u001b[39;00m\u001b[38;5;124m\"\u001b[39m)\n",
      "\u001b[0;31mValueError\u001b[0m: x and y must have same first dimension, but have shapes (100,) and (0,)"
     ]
    },
    {
     "data": {
      "image/png": "[encoded data removed]",
      "text/plain": [
       "<Figure size 640x480 with 1 Axes>"
      ]
     },
     "metadata": {},
     "output_type": "display_data"
    }
   ],
   "source": [
    "num_epochs = 100\n",
    "accuracies=[]\n",
    "val_scores=[]\n",
    "test_scores=[]\n",
    "for epoch in tqdm(range(num_epochs),desc=\"Epochs\"):\n",
    "    model.train()\n",
    "    for x_d,x_y1,x_y2,y,y1,y2 in train_dl:\n",
    "        loss,_,_=model(x_d.to(device), y2=y2.to(device))\n",
    "        optim.zero_grad()\n",
    "        loss.backward()\n",
    "        optim.step()\n",
    "    val_accuracy,_,val_f1_score = eval_fn(model,val_dl)\n",
    "    test_accuracy,_,test_f1_score = eval_fn(model,test_dl)\n",
    "    val_scores.append((val_accuracy,val_f1_score))\n",
    "    test_scores.append((test_accuracy,test_f1_score))\n",
    "    print(\"Epoch \",epoch,\"---\",val_accuracy)        \n",
    "best_epoch,best_val_scores,best_test_scores=max_scores(val_scores,test_scores)\n"
   ]
  },
  {
   "cell_type": "code",
   "execution_count": 30,
   "id": "95e029a2-d1f3-441d-bd32-6ebb454ff796",
   "metadata": {},
   "outputs": [
    {
     "data": {
      "text/plain": [
       "'\\nSteps \\n1. Create Graph Object where every node has an integer ID corresponding to ground truth\\n2. Instances of graph object, retreive node representation, adj matrix\\n3. Figure out condensor (feature propogation)\\n4. Make sure adjacency matrix does not get trained\\n'"
      ]
     },
     "execution_count": 30,
     "metadata": {},
     "output_type": "execute_result"
    }
   ],
   "source": [
    "\"\"\"\n",
    "Steps \n",
    "1. Create Graph Object where every node has an integer ID corresponding to ground truth\n",
    "2. Instances of graph object, retreive node representation, adj matrix\n",
    "3. Figure out condensor (feature propogation)\n",
    "4. Make sure adjacency matrix does not get trained\n",
    "\"\"\""
   ]
  },
  {
   "cell_type": "code",
   "execution_count": 31,
   "id": "f355a934-e4a4-484b-be39-063ecb1de423",
   "metadata": {},
   "outputs": [],
   "source": [
    "class WOSDatasetGNN(torch.utils.data.Dataset):\n",
    "    \"\"\"Face Landmarks dataset.\"\"\"\n",
    "\n",
    "    def __init__(self, df):\n",
    "        \"\"\"\n",
    "        \"\"\"\n",
    "        self.x_d=embedder.encode(df[\"Abstract\"].to_list(),convert_to_tensor=True)\n",
    "        # self.x_y1=embedder.encode(df[\"Domain\"].to_list(),convert_to_tensor=True)\n",
    "        # self.x_y2=embedder.encode(df[\"area\"].to_list(),convert_to_tensor=True)\n",
    "        # self.y=torch.LongTensor(df[\"Y\"].to_list())\n",
    "        self.y1 = 0*torch.nn.functional.one_hot(torch.LongTensor(df[\"Y1\"].to_list()), num_classes=level1_num_nodes)\n",
    "        self.y2 = torch.nn.functional.one_hot(torch.LongTensor(df[\"Y\"].to_list()), num_classes=np.sum(level2_num_nodes))\n",
    "        self.y = 1.0*torch.cat((self.y1, self.y2), dim=-1)\n",
    "        self.y_int=torch.LongTensor(df[\"Y\"].to_list())+level1_num_nodes\n",
    "        \n",
    "    def __len__(self):\n",
    "        return len(self.x_d)\n",
    "\n",
    "    def __getitem__(self, idx):\n",
    "\n",
    "        return (self.x_d[idx],self.y_int[idx],self.y[idx])"
   ]
  },
  {
   "cell_type": "code",
   "execution_count": 32,
   "id": "bb1e025a-6f1b-483c-9c5d-cf207752f055",
   "metadata": {},
   "outputs": [],
   "source": [
    "train_dataset_gnn=WOSDatasetGNN(train)\n",
    "val_dataset_gnn=WOSDatasetGNN(val)\n",
    "test_dataset_gnn=WOSDatasetGNN(test)\n"
   ]
  },
  {
   "cell_type": "code",
   "execution_count": 33,
   "id": "a6864d0c-0ef4-4090-8558-66ce1cfecfde",
   "metadata": {},
   "outputs": [],
   "source": [
    "train_dl_gnn = torch.utils.data.DataLoader(train_dataset_gnn, batch_size=32,shuffle=True, num_workers=0)\n",
    "val_dl_gnn = torch.utils.data.DataLoader(val_dataset_gnn, batch_size=64,shuffle=False, num_workers=0)\n",
    "test_dl_gnn = torch.utils.data.DataLoader(test_dataset_gnn, batch_size=64,shuffle=False, num_workers=0)\n"
   ]
  },
  {
   "cell_type": "code",
   "execution_count": 34,
   "id": "3b4f50ad-cf0e-45a2-ad89-04cfb310ab65",
   "metadata": {},
   "outputs": [
    {
     "name": "stdout",
     "output_type": "stream",
     "text": [
      "tensor([[0., 0., 0.,  ..., 0., 0., 0.],\n",
      "        [0., 0., 0.,  ..., 0., 0., 0.],\n",
      "        [0., 0., 0.,  ..., 0., 0., 0.],\n",
      "        ...,\n",
      "        [0., 0., 0.,  ..., 0., 0., 1.],\n",
      "        [0., 0., 0.,  ..., 0., 0., 0.],\n",
      "        [0., 0., 0.,  ..., 0., 0., 0.]])\n"
     ]
    }
   ],
   "source": [
    "for x in test_dl_gnn:\n",
    "    print(x[2])\n",
    "    break"
   ]
  },
  {
   "cell_type": "code",
   "execution_count": 35,
   "id": "eeccf2b7-077c-458b-88b4-627c378a5887",
   "metadata": {},
   "outputs": [
    {
     "name": "stdout",
     "output_type": "stream",
     "text": [
      "['CS ', 'Civil ', 'ECE ', 'MAE ', 'Medical ', 'Psychology  ', 'biochemistry ', ' Algorithm design  ', ' Bioinformatics  ', ' Computer graphics  ', ' Computer programming  ', ' Computer vision  ', ' Cryptography  ', ' Data structures  ', ' Distributed computing  ', ' Image processing  ', ' Machine learning  ', ' Operating systems  ', ' Parallel computing  ', ' Relational databases  ', ' Software engineering  ', ' Structured Storage  ', ' Symbolic computation  ', ' network security  ', ' Ambient Intelligence  ', ' Bamboo as a Building Material  ', ' Construction Management  ', ' Geotextile  ', ' Green Building  ', ' Highway Network System  ', ' Nano Concrete  ', ' Rainwater Harvesting  ', ' Remote Sensing  ', ' Smart Material  ', ' Solar Energy  ', ' Stealth Technology  ', ' Suspension Bridge  ', ' Transparent Concrete  ', ' Underwater Windmill  ', ' Water Pollution  ', ' Analog signal processing  ', ' Control engineering  ', ' Digital control  ', ' Electric motor  ', ' Electrical circuits  ', ' Electrical generator  ', ' Electrical network  ', ' Electricity  ', ' Lorentz force law  ', ' Microcontroller  ', ' Operational amplifier  ', ' PID controller  ', ' Satellite radio  ', ' Signal-flow graph  ', ' Single-phase electric power  ', ' State space representation  ', ' System identification  ', ' Voltage law  ', ' Fluid mechanics  ', ' Hydraulics  ', ' Internal combustion engine  ', ' Machine design  ', ' Manufacturing engineering  ', ' Materials Engineering  ', ' Strength of materials  ', ' Thermodynamics  ', ' computer-aided design  ', ' Addiction  ', ' Allergies  ', \" Alzheimer's Disease  \", ' Ankylosing Spondylitis  ', ' Anxiety  ', ' Asthma  ', ' Atopic Dermatitis  ', ' Atrial Fibrillation  ', ' Autism  ', ' Bipolar Disorder  ', ' Birth Control  ', ' Cancer  ', \" Children's Health  \", \" Crohn's Disease  \", ' Dementia  ', ' Depression  ', ' Diabetes  ', ' Digestive Health  ', ' Emergency Contraception  ', ' Fungal Infection  ', ' HIV/AIDS  ', ' Headache  ', ' Healthy Sleep  ', ' Heart Disease  ', ' Hepatitis C  ', ' Hereditary Angioedema  ', ' Hypothyroidism  ', ' Idiopathic Pulmonary Fibrosis  ', ' Irritable Bowel Syndrome  ', ' Kidney Health  ', ' Low Testosterone  ', ' Lymphoma  ', ' Medicare  ', ' Menopause  ', ' Mental Health  ', ' Migraine  ', ' Multiple Sclerosis  ', ' Myelofibrosis  ', ' Osteoarthritis  ', ' Osteoporosis  ', ' Outdoor Health  ', ' Overactive Bladder  ', ' Parenting  ', \" Parkinson's Disease  \", ' Polycythemia Vera  ', ' Psoriasis  ', ' Psoriatic Arthritis  ', ' Rheumatoid Arthritis  ', ' Schizophrenia  ', ' Senior Health  ', ' Skin Care  ', ' Smoking Cessation  ', ' Sports Injuries  ', ' Sprains and Strains  ', ' Stress Management  ', ' Weight Loss  ', ' Antisocial personality disorder  ', ' Attention  ', ' Borderline personality disorder  ', ' Child abuse  ', ' Depression  ', ' Eating disorders  ', ' False memories  ', ' Gender roles  ', ' Leadership  ', ' Media violence  ', ' Nonverbal communication  ', ' Person perception  ', ' Prejudice  ', ' Prenatal development  ', ' Problem-solving  ', ' Prosocial behavior  ', ' Schizophrenia  ', ' Seasonal affective disorder  ', ' Social cognition  ', ' Cell biology  ', ' DNA/RNA sequencing  ', ' Enzymology  ', ' Genetics  ', ' Human Metabolism  ', ' Immunology  ', ' Molecular biology  ', ' Northern blotting  ', ' Polymerase chain reaction  ', ' Southern blotting  ']\n"
     ]
    }
   ],
   "source": [
    "labels = []\n",
    "for i in range(len(global_index_to_name)):\n",
    "    labels.append(global_index_to_name[i])\n",
    "print(labels)\n",
    "all_labels_encoded = embedder.encode(labels,convert_to_tensor=True)"
   ]
  },
  {
   "cell_type": "code",
   "execution_count": 36,
   "id": "e8f4ab99-e6bb-4242-821d-7e168db23676",
   "metadata": {},
   "outputs": [
    {
     "data": {
      "text/plain": [
       "False"
      ]
     },
     "execution_count": 36,
     "metadata": {},
     "output_type": "execute_result"
    }
   ],
   "source": [
    "x=torch.Tensor(A_bidirec)\n",
    "x.requires_grad"
   ]
  },
  {
   "cell_type": "code",
   "execution_count": 37,
   "id": "9bcda652-565a-44f4-9ef6-9324bd58905e",
   "metadata": {},
   "outputs": [
    {
     "data": {
      "text/plain": [
       "tensor([[0., 0., 0.,  ..., 0., 0., 0.],\n",
       "        [0., 0., 0.,  ..., 0., 0., 0.],\n",
       "        [0., 0., 0.,  ..., 0., 0., 0.],\n",
       "        ...,\n",
       "        [0., 0., 0.,  ..., 0., 0., 0.],\n",
       "        [0., 0., 0.,  ..., 0., 0., 0.],\n",
       "        [0., 0., 0.,  ..., 0., 0., 0.]])"
      ]
     },
     "execution_count": 37,
     "metadata": {},
     "output_type": "execute_result"
    }
   ],
   "source": [
    "A_directed"
   ]
  },
  {
   "cell_type": "code",
   "execution_count": 52,
   "id": "2bc33ed3-a143-4999-bf50-2ad99da6c899",
   "metadata": {},
   "outputs": [],
   "source": [
    "class GraphTransformer(torch.nn.Module):\n",
    "    def __init__(self,num_convs):\n",
    "        super(GraphTransformer, self).__init__()\n",
    "        self.num_convs=num_convs\n",
    "        self.node_representation = all_labels_encoded # Nl x D\n",
    "        self.NL = all_labels_encoded.shape[0]\n",
    "        # self.A=torch.Tensor(A_bidirec).to(device)\n",
    "        self.A=torch.Tensor(A_directed).to(device)\n",
    "        self.hidden_dim=hidden_dim\n",
    "        self.A_til = (self.A/(1e-8+torch.sum(self.A,dim=-1,keepdim=True)))+torch.eye(self.NL).to(device)\n",
    "        self.loss = torch.nn.BCEWithLogitsLoss(reduction = 'mean')\n",
    "        self.lin1 = torch.nn.Linear(self.hidden_dim, 1)\n",
    "        self.condensor = torch.nn.Linear(2*self.hidden_dim, self.hidden_dim) #Converts 2D -> D via a linear layer\n",
    "        self.act=torch.nn.GELU()\n",
    "        \n",
    "    def GCNConv(self, x,option=\"cat,conv,cond\"):\n",
    "        B = x.shape[0]\n",
    "        if option==\"cat,conv,cond\":\n",
    "            return self.act(torch.matmul(self.A_til,x))\n",
    "        else:\n",
    "            return None\n",
    "\n",
    "    def forward(self, x_d, y=None,option=\"cat,conv,cond\"):\n",
    "        \"\"\" \n",
    "        :param x_d = input document set (B x N x D)\n",
    "        :return scores (B x N), loss (B)\n",
    "        \n",
    "        \"\"\"\n",
    "        B = x_d.shape[0]\n",
    "        if option==\"cat,conv,cond\":\n",
    "            x_prime = torch.tile(torch.unsqueeze(x_d, dim=1), dims=(1, self.NL, 1))# B x Nl x  D\n",
    "            node_representation_m = torch.tile(torch.unsqueeze(self.node_representation, dim=0), dims=(B, 1, 1))    \n",
    "            for i in range(self.num_convs): #Nodes with 5 from current node get information\n",
    "                # print(x_prime.shape,node_representation_m.shape)\n",
    "                x_prime=torch.cat((x_prime, node_representation_m), dim=-1)\n",
    "                x_prime = self.GCNConv(x_prime,option)\n",
    "                x_prime = self.condensor(x_prime)\n",
    "                x_prime = self.act(x_prime)\n",
    "\n",
    "            scores = torch.squeeze(self.lin1(x_prime), dim=-1) #Scores = (B x N)\n",
    "            # print(scores.dtype,y.dtype)\n",
    "            d_loss = self.loss(scores, y)\n",
    "            return scores, d_loss\n"
   ]
  },
  {
   "cell_type": "code",
   "execution_count": 42,
   "id": "d77b21ee-532f-49bd-a29f-148465819b05",
   "metadata": {},
   "outputs": [],
   "source": [
    "def eval_fn(model,dl):\n",
    "    model.eval()\n",
    "    correct=0\n",
    "    total_num=0\n",
    "    correct_list=[]\n",
    "    actual_class_list=[]\n",
    "    predict_list=[]\n",
    "    with torch.no_grad():\n",
    "        for x_d,y_int,y in dl:\n",
    "            scores,loss=model(x_d.to(device),y.to(device))\n",
    "            # max_idx=level1_num_nodes+torch.argmax(scores[:,level1_num_nodes:], dim=-1).to(device)\n",
    "            max_idx=torch.argmax(scores, dim=-1).to(device)\n",
    "            # print(scores.shape)\n",
    "            temp=(max_idx==(y_int.to(device)))\n",
    "            actual_class_list.extend(y_int.tolist())\n",
    "            predict_list.extend(max_idx.cpu().tolist())\n",
    "            correct+=torch.sum(temp).to(device).cpu().numpy()\n",
    "            total_num+=len(x_d)\n",
    "            correct_list+=temp.to(device).tolist()\n",
    "    f1_score_my=f1_score(actual_class_list, predict_list, average='macro')\n",
    "    return correct/total_num,correct_list,f1_score_my\n"
   ]
  },
  {
   "cell_type": "code",
   "execution_count": 58,
   "id": "d623460e-9e5c-413e-b839-c8181ebf1766",
   "metadata": {},
   "outputs": [
    {
     "name": "stderr",
     "output_type": "stream",
     "text": [
      "Epochs: 100%|█████████████████████████████████████████████████████████████████████████████████████████████████████████████████████████████████████████████████████████████████| 200/200 [36:30<00:00, 10.95s/it]\n"
     ]
    },
    {
     "name": "stdout",
     "output_type": "stream",
     "text": [
      "14 (0.6174968071519795, 0.5854675079846148) (0.6033198552883592, 0.5660982770857266)\n"
     ]
    },
    {
     "name": "stderr",
     "output_type": "stream",
     "text": [
      "Epochs: 100%|█████████████████████████████████████████████████████████████████████████████████████████████████████████████████████████████████████████████████████████████████| 200/200 [53:51<00:00, 16.16s/it]\n"
     ]
    },
    {
     "name": "stdout",
     "output_type": "stream",
     "text": [
      "14 (0.6230310770540656, 0.5971525000241636) (0.6082145137263247, 0.5640359327973209)\n"
     ]
    },
    {
     "name": "stderr",
     "output_type": "stream",
     "text": [
      "Epochs: 100%|███████████████████████████████████████████████████████████████████████████████████████████████████████████████████████████████████████████████████████████████| 200/200 [1:00:58<00:00, 18.29s/it]\n"
     ]
    },
    {
     "name": "stdout",
     "output_type": "stream",
     "text": [
      "9 (0.6219667943805874, 0.5947004925710379) (0.6067248350712917, 0.566743389149804)\n"
     ]
    },
    {
     "name": "stderr",
     "output_type": "stream",
     "text": [
      "Epochs: 100%|███████████████████████████████████████████████████████████████████████████████████████████████████████████████████████████████████████████████████████████████| 200/200 [1:18:18<00:00, 23.49s/it]"
     ]
    },
    {
     "name": "stdout",
     "output_type": "stream",
     "text": [
      "11 (0.62281822051937, 0.5976056608952297) (0.6118323047456906, 0.5759413625984554)\n"
     ]
    },
    {
     "name": "stderr",
     "output_type": "stream",
     "text": [
      "\n"
     ]
    }
   ],
   "source": [
    "file=\"logs/wos_unidire_correct_gnn.txt\"\n",
    "print(\"New\",file=open(file,\"w\"))\n",
    "for num_convs in [2,3,4,5]:\n",
    "    print(\"Num Convs\",num_convs,\"===================\",file=open(file,\"a\"))\n",
    "    model=GraphTransformer(num_convs).to(device)\n",
    "    optim=torch.optim.AdamW(model.parameters(),lr=0.003)\n",
    "    num_epochs = 200\n",
    "    accuracies=[]\n",
    "    val_scores=[]\n",
    "    test_scores=[]\n",
    "    for epoch in tqdm(range(num_epochs),desc=\"Epochs\"):\n",
    "    # for epoch in range(num_epochs):\n",
    "        model.train()   \n",
    "        for x_d, y_int, y in train_dl_gnn:\n",
    "            scores, loss = model(x_d.to(device), y.to(device))\n",
    "            optim.zero_grad()\n",
    "            loss.backward()\n",
    "            optim.step()\n",
    "        val_accuracy,_,val_f1_score = eval_fn(model,val_dl_gnn)\n",
    "        test_accuracy,_,test_f1_score = eval_fn(model,test_dl_gnn)\n",
    "        val_scores.append((val_accuracy,val_f1_score))\n",
    "        test_scores.append((test_accuracy,test_f1_score))\n",
    "        # print(\"Epoch \",epoch,\"---\",val_accuracy)        \n",
    "    best_epoch,best_val_scores,best_test_scores=max_scores(val_scores,test_scores)\n",
    "    print(best_epoch,best_val_scores,best_test_scores)\n",
    "    print(best_epoch,best_val_scores,best_test_scores,file=open(file,\"a\"))"
   ]
  },
  {
   "cell_type": "code",
   "execution_count": null,
   "id": "c107ad18-c040-4102-92c1-7dca689f0b7a",
   "metadata": {},
   "outputs": [],
   "source": []
  }
 ],
 "metadata": {
  "kernelspec": {
   "display_name": "Python 3 (ipykernel)",
   "language": "python",
   "name": "python3"
  },
  "language_info": {
   "codemirror_mode": {
    "name": "ipython",
    "version": 3
   },
   "file_extension": ".py",
   "mimetype": "text/x-python",
   "name": "python",
   "nbconvert_exporter": "python",
   "pygments_lexer": "ipython3",
   "version": "3.8.16"
  }
 },
 "nbformat": 4,
 "nbformat_minor": 5
}
